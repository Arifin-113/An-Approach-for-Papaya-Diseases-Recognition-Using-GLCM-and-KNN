{
 "cells": [
  {
   "cell_type": "code",
   "execution_count": 7,
   "metadata": {},
   "outputs": [],
   "source": [
    "#imports\n",
    "import numpy as np\n",
    "import pandas as pd\n",
    "import matplotlib.pyplot as plt\n",
    "import seaborn as sns\n",
    "from sklearn.metrics import accuracy_score\n",
    "from sklearn.metrics import plot_confusion_matrix\n",
    "from sklearn.model_selection import cross_val_score\n",
    "from sklearn.utils import shuffle"
   ]
  },
  {
   "cell_type": "code",
   "execution_count": 8,
   "metadata": {},
   "outputs": [
    {
     "data": {
      "text/html": [
       "<div>\n",
       "<style scoped>\n",
       "    .dataframe tbody tr th:only-of-type {\n",
       "        vertical-align: middle;\n",
       "    }\n",
       "\n",
       "    .dataframe tbody tr th {\n",
       "        vertical-align: top;\n",
       "    }\n",
       "\n",
       "    .dataframe thead th {\n",
       "        text-align: right;\n",
       "    }\n",
       "</style>\n",
       "<table border=\"1\" class=\"dataframe\">\n",
       "  <thead>\n",
       "    <tr style=\"text-align: right;\">\n",
       "      <th></th>\n",
       "      <th>index</th>\n",
       "      <th>0</th>\n",
       "      <th>1</th>\n",
       "      <th>2</th>\n",
       "      <th>3</th>\n",
       "      <th>4</th>\n",
       "      <th>5</th>\n",
       "      <th>6</th>\n",
       "      <th>7</th>\n",
       "      <th>8</th>\n",
       "      <th>9</th>\n",
       "      <th>10</th>\n",
       "      <th>11</th>\n",
       "      <th>12</th>\n",
       "      <th>13</th>\n",
       "      <th>14</th>\n",
       "      <th>15</th>\n",
       "      <th>16</th>\n",
       "    </tr>\n",
       "  </thead>\n",
       "  <tbody>\n",
       "    <tr>\n",
       "      <th>0</th>\n",
       "      <td>0</td>\n",
       "      <td>1.999632</td>\n",
       "      <td>3.093702</td>\n",
       "      <td>2.033272</td>\n",
       "      <td>3.002799</td>\n",
       "      <td>0.633460</td>\n",
       "      <td>0.571372</td>\n",
       "      <td>0.635272</td>\n",
       "      <td>0.581739</td>\n",
       "      <td>0.170648</td>\n",
       "      <td>0.156667</td>\n",
       "      <td>0.172241</td>\n",
       "      <td>0.159826</td>\n",
       "      <td>0.865883</td>\n",
       "      <td>0.791993</td>\n",
       "      <td>0.863330</td>\n",
       "      <td>0.798109</td>\n",
       "      <td>Papaya Fresh Leaf</td>\n",
       "    </tr>\n",
       "    <tr>\n",
       "      <th>1</th>\n",
       "      <td>1</td>\n",
       "      <td>0.722365</td>\n",
       "      <td>1.579700</td>\n",
       "      <td>1.301654</td>\n",
       "      <td>1.719493</td>\n",
       "      <td>0.915808</td>\n",
       "      <td>0.885972</td>\n",
       "      <td>0.889406</td>\n",
       "      <td>0.879521</td>\n",
       "      <td>0.718141</td>\n",
       "      <td>0.713230</td>\n",
       "      <td>0.715649</td>\n",
       "      <td>0.712989</td>\n",
       "      <td>0.988634</td>\n",
       "      <td>0.975208</td>\n",
       "      <td>0.979519</td>\n",
       "      <td>0.973014</td>\n",
       "      <td>Papaya Fresh Leaf</td>\n",
       "    </tr>\n",
       "    <tr>\n",
       "      <th>2</th>\n",
       "      <td>2</td>\n",
       "      <td>0.699969</td>\n",
       "      <td>1.998093</td>\n",
       "      <td>1.621354</td>\n",
       "      <td>1.975702</td>\n",
       "      <td>0.925097</td>\n",
       "      <td>0.882642</td>\n",
       "      <td>0.889191</td>\n",
       "      <td>0.881281</td>\n",
       "      <td>0.749311</td>\n",
       "      <td>0.742571</td>\n",
       "      <td>0.745322</td>\n",
       "      <td>0.742694</td>\n",
       "      <td>0.986119</td>\n",
       "      <td>0.960490</td>\n",
       "      <td>0.967848</td>\n",
       "      <td>0.960933</td>\n",
       "      <td>Papaya Fresh Leaf</td>\n",
       "    </tr>\n",
       "    <tr>\n",
       "      <th>3</th>\n",
       "      <td>3</td>\n",
       "      <td>0.358762</td>\n",
       "      <td>0.608781</td>\n",
       "      <td>0.472656</td>\n",
       "      <td>0.670496</td>\n",
       "      <td>0.911386</td>\n",
       "      <td>0.891686</td>\n",
       "      <td>0.896863</td>\n",
       "      <td>0.882874</td>\n",
       "      <td>0.404194</td>\n",
       "      <td>0.393967</td>\n",
       "      <td>0.397970</td>\n",
       "      <td>0.391944</td>\n",
       "      <td>0.989202</td>\n",
       "      <td>0.981726</td>\n",
       "      <td>0.985777</td>\n",
       "      <td>0.979875</td>\n",
       "      <td>Papaya Fresh Leaf</td>\n",
       "    </tr>\n",
       "    <tr>\n",
       "      <th>4</th>\n",
       "      <td>4</td>\n",
       "      <td>0.322227</td>\n",
       "      <td>0.559339</td>\n",
       "      <td>0.365273</td>\n",
       "      <td>0.499239</td>\n",
       "      <td>0.914601</td>\n",
       "      <td>0.890028</td>\n",
       "      <td>0.899300</td>\n",
       "      <td>0.885933</td>\n",
       "      <td>0.430124</td>\n",
       "      <td>0.416377</td>\n",
       "      <td>0.423192</td>\n",
       "      <td>0.414672</td>\n",
       "      <td>0.989225</td>\n",
       "      <td>0.981354</td>\n",
       "      <td>0.987790</td>\n",
       "      <td>0.983360</td>\n",
       "      <td>Papaya Fresh Leaf</td>\n",
       "    </tr>\n",
       "  </tbody>\n",
       "</table>\n",
       "</div>"
      ],
      "text/plain": [
       "   index         0         1         2         3         4         5  \\\n",
       "0      0  1.999632  3.093702  2.033272  3.002799  0.633460  0.571372   \n",
       "1      1  0.722365  1.579700  1.301654  1.719493  0.915808  0.885972   \n",
       "2      2  0.699969  1.998093  1.621354  1.975702  0.925097  0.882642   \n",
       "3      3  0.358762  0.608781  0.472656  0.670496  0.911386  0.891686   \n",
       "4      4  0.322227  0.559339  0.365273  0.499239  0.914601  0.890028   \n",
       "\n",
       "          6         7         8         9        10        11        12  \\\n",
       "0  0.635272  0.581739  0.170648  0.156667  0.172241  0.159826  0.865883   \n",
       "1  0.889406  0.879521  0.718141  0.713230  0.715649  0.712989  0.988634   \n",
       "2  0.889191  0.881281  0.749311  0.742571  0.745322  0.742694  0.986119   \n",
       "3  0.896863  0.882874  0.404194  0.393967  0.397970  0.391944  0.989202   \n",
       "4  0.899300  0.885933  0.430124  0.416377  0.423192  0.414672  0.989225   \n",
       "\n",
       "         13        14        15                 16  \n",
       "0  0.791993  0.863330  0.798109  Papaya Fresh Leaf  \n",
       "1  0.975208  0.979519  0.973014  Papaya Fresh Leaf  \n",
       "2  0.960490  0.967848  0.960933  Papaya Fresh Leaf  \n",
       "3  0.981726  0.985777  0.979875  Papaya Fresh Leaf  \n",
       "4  0.981354  0.987790  0.983360  Papaya Fresh Leaf  "
      ]
     },
     "execution_count": 8,
     "metadata": {},
     "output_type": "execute_result"
    }
   ],
   "source": [
    "path = r\"C:\\Users\\Arifin\\Downloads\\papaya\\Combined_Leaf.csv\"\n",
    "df = pd.read_csv(path,index_col=0)\n",
    "df = df.reset_index()\n",
    "df.head()"
   ]
  },
  {
   "cell_type": "code",
   "execution_count": 9,
   "metadata": {},
   "outputs": [
    {
     "data": {
      "text/plain": [
       "(290, 18)"
      ]
     },
     "execution_count": 9,
     "metadata": {},
     "output_type": "execute_result"
    }
   ],
   "source": [
    "df.shape"
   ]
  },
  {
   "cell_type": "code",
   "execution_count": 10,
   "metadata": {},
   "outputs": [
    {
     "data": {
      "text/html": [
       "<div>\n",
       "<style scoped>\n",
       "    .dataframe tbody tr th:only-of-type {\n",
       "        vertical-align: middle;\n",
       "    }\n",
       "\n",
       "    .dataframe tbody tr th {\n",
       "        vertical-align: top;\n",
       "    }\n",
       "\n",
       "    .dataframe thead th {\n",
       "        text-align: right;\n",
       "    }\n",
       "</style>\n",
       "<table border=\"1\" class=\"dataframe\">\n",
       "  <thead>\n",
       "    <tr style=\"text-align: right;\">\n",
       "      <th></th>\n",
       "      <th>index</th>\n",
       "      <th>0</th>\n",
       "      <th>1</th>\n",
       "      <th>2</th>\n",
       "      <th>3</th>\n",
       "      <th>4</th>\n",
       "      <th>5</th>\n",
       "      <th>6</th>\n",
       "      <th>7</th>\n",
       "      <th>8</th>\n",
       "      <th>9</th>\n",
       "      <th>10</th>\n",
       "      <th>11</th>\n",
       "      <th>12</th>\n",
       "      <th>13</th>\n",
       "      <th>14</th>\n",
       "      <th>15</th>\n",
       "    </tr>\n",
       "  </thead>\n",
       "  <tbody>\n",
       "    <tr>\n",
       "      <th>count</th>\n",
       "      <td>290.000000</td>\n",
       "      <td>290.000000</td>\n",
       "      <td>290.000000</td>\n",
       "      <td>290.000000</td>\n",
       "      <td>290.000000</td>\n",
       "      <td>290.000000</td>\n",
       "      <td>290.000000</td>\n",
       "      <td>290.000000</td>\n",
       "      <td>290.000000</td>\n",
       "      <td>290.000000</td>\n",
       "      <td>290.000000</td>\n",
       "      <td>290.000000</td>\n",
       "      <td>290.000000</td>\n",
       "      <td>290.000000</td>\n",
       "      <td>290.000000</td>\n",
       "      <td>290.000000</td>\n",
       "      <td>290.000000</td>\n",
       "    </tr>\n",
       "    <tr>\n",
       "      <th>mean</th>\n",
       "      <td>30.055172</td>\n",
       "      <td>2.730053</td>\n",
       "      <td>4.004278</td>\n",
       "      <td>2.708280</td>\n",
       "      <td>4.037056</td>\n",
       "      <td>0.724608</td>\n",
       "      <td>0.673031</td>\n",
       "      <td>0.725979</td>\n",
       "      <td>0.672046</td>\n",
       "      <td>0.304381</td>\n",
       "      <td>0.289274</td>\n",
       "      <td>0.304638</td>\n",
       "      <td>0.289224</td>\n",
       "      <td>0.887507</td>\n",
       "      <td>0.836804</td>\n",
       "      <td>0.889513</td>\n",
       "      <td>0.835418</td>\n",
       "    </tr>\n",
       "    <tr>\n",
       "      <th>std</th>\n",
       "      <td>18.916235</td>\n",
       "      <td>1.569669</td>\n",
       "      <td>2.037242</td>\n",
       "      <td>1.526318</td>\n",
       "      <td>2.045037</td>\n",
       "      <td>0.125969</td>\n",
       "      <td>0.137457</td>\n",
       "      <td>0.122049</td>\n",
       "      <td>0.137917</td>\n",
       "      <td>0.177709</td>\n",
       "      <td>0.176843</td>\n",
       "      <td>0.176173</td>\n",
       "      <td>0.177148</td>\n",
       "      <td>0.072311</td>\n",
       "      <td>0.094296</td>\n",
       "      <td>0.071455</td>\n",
       "      <td>0.095235</td>\n",
       "    </tr>\n",
       "    <tr>\n",
       "      <th>min</th>\n",
       "      <td>0.000000</td>\n",
       "      <td>0.237760</td>\n",
       "      <td>0.412626</td>\n",
       "      <td>0.263710</td>\n",
       "      <td>0.422268</td>\n",
       "      <td>0.443385</td>\n",
       "      <td>0.418674</td>\n",
       "      <td>0.441471</td>\n",
       "      <td>0.407525</td>\n",
       "      <td>0.108920</td>\n",
       "      <td>0.097947</td>\n",
       "      <td>0.100415</td>\n",
       "      <td>0.095287</td>\n",
       "      <td>0.613236</td>\n",
       "      <td>0.515019</td>\n",
       "      <td>0.635982</td>\n",
       "      <td>0.482207</td>\n",
       "    </tr>\n",
       "    <tr>\n",
       "      <th>25%</th>\n",
       "      <td>14.000000</td>\n",
       "      <td>1.511776</td>\n",
       "      <td>2.347028</td>\n",
       "      <td>1.536336</td>\n",
       "      <td>2.381453</td>\n",
       "      <td>0.620249</td>\n",
       "      <td>0.551028</td>\n",
       "      <td>0.623504</td>\n",
       "      <td>0.550100</td>\n",
       "      <td>0.145027</td>\n",
       "      <td>0.132160</td>\n",
       "      <td>0.147435</td>\n",
       "      <td>0.131843</td>\n",
       "      <td>0.842035</td>\n",
       "      <td>0.782129</td>\n",
       "      <td>0.849238</td>\n",
       "      <td>0.778329</td>\n",
       "    </tr>\n",
       "    <tr>\n",
       "      <th>50%</th>\n",
       "      <td>28.500000</td>\n",
       "      <td>2.568490</td>\n",
       "      <td>3.994302</td>\n",
       "      <td>2.619669</td>\n",
       "      <td>4.028658</td>\n",
       "      <td>0.720309</td>\n",
       "      <td>0.655138</td>\n",
       "      <td>0.717382</td>\n",
       "      <td>0.656673</td>\n",
       "      <td>0.201670</td>\n",
       "      <td>0.190792</td>\n",
       "      <td>0.207620</td>\n",
       "      <td>0.189852</td>\n",
       "      <td>0.891392</td>\n",
       "      <td>0.834174</td>\n",
       "      <td>0.893543</td>\n",
       "      <td>0.830536</td>\n",
       "    </tr>\n",
       "    <tr>\n",
       "      <th>75%</th>\n",
       "      <td>45.000000</td>\n",
       "      <td>3.809509</td>\n",
       "      <td>5.358035</td>\n",
       "      <td>3.821864</td>\n",
       "      <td>5.468900</td>\n",
       "      <td>0.830649</td>\n",
       "      <td>0.784447</td>\n",
       "      <td>0.828506</td>\n",
       "      <td>0.785288</td>\n",
       "      <td>0.474007</td>\n",
       "      <td>0.450429</td>\n",
       "      <td>0.469585</td>\n",
       "      <td>0.449702</td>\n",
       "      <td>0.945178</td>\n",
       "      <td>0.913080</td>\n",
       "      <td>0.953990</td>\n",
       "      <td>0.913202</td>\n",
       "    </tr>\n",
       "    <tr>\n",
       "      <th>max</th>\n",
       "      <td>72.000000</td>\n",
       "      <td>7.715732</td>\n",
       "      <td>10.384667</td>\n",
       "      <td>7.749449</td>\n",
       "      <td>10.185467</td>\n",
       "      <td>0.945703</td>\n",
       "      <td>0.921877</td>\n",
       "      <td>0.939214</td>\n",
       "      <td>0.924708</td>\n",
       "      <td>0.771433</td>\n",
       "      <td>0.765493</td>\n",
       "      <td>0.768943</td>\n",
       "      <td>0.765491</td>\n",
       "      <td>0.991926</td>\n",
       "      <td>0.986406</td>\n",
       "      <td>0.992110</td>\n",
       "      <td>0.988026</td>\n",
       "    </tr>\n",
       "  </tbody>\n",
       "</table>\n",
       "</div>"
      ],
      "text/plain": [
       "            index           0           1           2           3           4  \\\n",
       "count  290.000000  290.000000  290.000000  290.000000  290.000000  290.000000   \n",
       "mean    30.055172    2.730053    4.004278    2.708280    4.037056    0.724608   \n",
       "std     18.916235    1.569669    2.037242    1.526318    2.045037    0.125969   \n",
       "min      0.000000    0.237760    0.412626    0.263710    0.422268    0.443385   \n",
       "25%     14.000000    1.511776    2.347028    1.536336    2.381453    0.620249   \n",
       "50%     28.500000    2.568490    3.994302    2.619669    4.028658    0.720309   \n",
       "75%     45.000000    3.809509    5.358035    3.821864    5.468900    0.830649   \n",
       "max     72.000000    7.715732   10.384667    7.749449   10.185467    0.945703   \n",
       "\n",
       "                5           6           7           8           9          10  \\\n",
       "count  290.000000  290.000000  290.000000  290.000000  290.000000  290.000000   \n",
       "mean     0.673031    0.725979    0.672046    0.304381    0.289274    0.304638   \n",
       "std      0.137457    0.122049    0.137917    0.177709    0.176843    0.176173   \n",
       "min      0.418674    0.441471    0.407525    0.108920    0.097947    0.100415   \n",
       "25%      0.551028    0.623504    0.550100    0.145027    0.132160    0.147435   \n",
       "50%      0.655138    0.717382    0.656673    0.201670    0.190792    0.207620   \n",
       "75%      0.784447    0.828506    0.785288    0.474007    0.450429    0.469585   \n",
       "max      0.921877    0.939214    0.924708    0.771433    0.765493    0.768943   \n",
       "\n",
       "               11          12          13          14          15  \n",
       "count  290.000000  290.000000  290.000000  290.000000  290.000000  \n",
       "mean     0.289224    0.887507    0.836804    0.889513    0.835418  \n",
       "std      0.177148    0.072311    0.094296    0.071455    0.095235  \n",
       "min      0.095287    0.613236    0.515019    0.635982    0.482207  \n",
       "25%      0.131843    0.842035    0.782129    0.849238    0.778329  \n",
       "50%      0.189852    0.891392    0.834174    0.893543    0.830536  \n",
       "75%      0.449702    0.945178    0.913080    0.953990    0.913202  \n",
       "max      0.765491    0.991926    0.986406    0.992110    0.988026  "
      ]
     },
     "execution_count": 10,
     "metadata": {},
     "output_type": "execute_result"
    }
   ],
   "source": [
    "df.describe()"
   ]
  },
  {
   "cell_type": "code",
   "execution_count": 11,
   "metadata": {},
   "outputs": [
    {
     "data": {
      "text/html": [
       "<div>\n",
       "<style scoped>\n",
       "    .dataframe tbody tr th:only-of-type {\n",
       "        vertical-align: middle;\n",
       "    }\n",
       "\n",
       "    .dataframe tbody tr th {\n",
       "        vertical-align: top;\n",
       "    }\n",
       "\n",
       "    .dataframe thead th {\n",
       "        text-align: right;\n",
       "    }\n",
       "</style>\n",
       "<table border=\"1\" class=\"dataframe\">\n",
       "  <thead>\n",
       "    <tr style=\"text-align: right;\">\n",
       "      <th></th>\n",
       "      <th>index</th>\n",
       "      <th>0</th>\n",
       "      <th>1</th>\n",
       "      <th>2</th>\n",
       "      <th>3</th>\n",
       "      <th>4</th>\n",
       "      <th>5</th>\n",
       "      <th>6</th>\n",
       "      <th>7</th>\n",
       "      <th>8</th>\n",
       "      <th>9</th>\n",
       "      <th>10</th>\n",
       "      <th>11</th>\n",
       "      <th>12</th>\n",
       "      <th>13</th>\n",
       "      <th>14</th>\n",
       "      <th>15</th>\n",
       "      <th>16</th>\n",
       "    </tr>\n",
       "  </thead>\n",
       "  <tbody>\n",
       "    <tr>\n",
       "      <th>0</th>\n",
       "      <td>0</td>\n",
       "      <td>1.999632</td>\n",
       "      <td>3.093702</td>\n",
       "      <td>2.033272</td>\n",
       "      <td>3.002799</td>\n",
       "      <td>0.633460</td>\n",
       "      <td>0.571372</td>\n",
       "      <td>0.635272</td>\n",
       "      <td>0.581739</td>\n",
       "      <td>0.170648</td>\n",
       "      <td>0.156667</td>\n",
       "      <td>0.172241</td>\n",
       "      <td>0.159826</td>\n",
       "      <td>0.865883</td>\n",
       "      <td>0.791993</td>\n",
       "      <td>0.863330</td>\n",
       "      <td>0.798109</td>\n",
       "      <td>Papaya Fresh Leaf</td>\n",
       "    </tr>\n",
       "    <tr>\n",
       "      <th>1</th>\n",
       "      <td>1</td>\n",
       "      <td>0.722365</td>\n",
       "      <td>1.579700</td>\n",
       "      <td>1.301654</td>\n",
       "      <td>1.719493</td>\n",
       "      <td>0.915808</td>\n",
       "      <td>0.885972</td>\n",
       "      <td>0.889406</td>\n",
       "      <td>0.879521</td>\n",
       "      <td>0.718141</td>\n",
       "      <td>0.713230</td>\n",
       "      <td>0.715649</td>\n",
       "      <td>0.712989</td>\n",
       "      <td>0.988634</td>\n",
       "      <td>0.975208</td>\n",
       "      <td>0.979519</td>\n",
       "      <td>0.973014</td>\n",
       "      <td>Papaya Fresh Leaf</td>\n",
       "    </tr>\n",
       "    <tr>\n",
       "      <th>2</th>\n",
       "      <td>2</td>\n",
       "      <td>0.699969</td>\n",
       "      <td>1.998093</td>\n",
       "      <td>1.621354</td>\n",
       "      <td>1.975702</td>\n",
       "      <td>0.925097</td>\n",
       "      <td>0.882642</td>\n",
       "      <td>0.889191</td>\n",
       "      <td>0.881281</td>\n",
       "      <td>0.749311</td>\n",
       "      <td>0.742571</td>\n",
       "      <td>0.745322</td>\n",
       "      <td>0.742694</td>\n",
       "      <td>0.986119</td>\n",
       "      <td>0.960490</td>\n",
       "      <td>0.967848</td>\n",
       "      <td>0.960933</td>\n",
       "      <td>Papaya Fresh Leaf</td>\n",
       "    </tr>\n",
       "    <tr>\n",
       "      <th>3</th>\n",
       "      <td>3</td>\n",
       "      <td>0.358762</td>\n",
       "      <td>0.608781</td>\n",
       "      <td>0.472656</td>\n",
       "      <td>0.670496</td>\n",
       "      <td>0.911386</td>\n",
       "      <td>0.891686</td>\n",
       "      <td>0.896863</td>\n",
       "      <td>0.882874</td>\n",
       "      <td>0.404194</td>\n",
       "      <td>0.393967</td>\n",
       "      <td>0.397970</td>\n",
       "      <td>0.391944</td>\n",
       "      <td>0.989202</td>\n",
       "      <td>0.981726</td>\n",
       "      <td>0.985777</td>\n",
       "      <td>0.979875</td>\n",
       "      <td>Papaya Fresh Leaf</td>\n",
       "    </tr>\n",
       "    <tr>\n",
       "      <th>4</th>\n",
       "      <td>4</td>\n",
       "      <td>0.322227</td>\n",
       "      <td>0.559339</td>\n",
       "      <td>0.365273</td>\n",
       "      <td>0.499239</td>\n",
       "      <td>0.914601</td>\n",
       "      <td>0.890028</td>\n",
       "      <td>0.899300</td>\n",
       "      <td>0.885933</td>\n",
       "      <td>0.430124</td>\n",
       "      <td>0.416377</td>\n",
       "      <td>0.423192</td>\n",
       "      <td>0.414672</td>\n",
       "      <td>0.989225</td>\n",
       "      <td>0.981354</td>\n",
       "      <td>0.987790</td>\n",
       "      <td>0.983360</td>\n",
       "      <td>Papaya Fresh Leaf</td>\n",
       "    </tr>\n",
       "  </tbody>\n",
       "</table>\n",
       "</div>"
      ],
      "text/plain": [
       "   index         0         1         2         3         4         5  \\\n",
       "0      0  1.999632  3.093702  2.033272  3.002799  0.633460  0.571372   \n",
       "1      1  0.722365  1.579700  1.301654  1.719493  0.915808  0.885972   \n",
       "2      2  0.699969  1.998093  1.621354  1.975702  0.925097  0.882642   \n",
       "3      3  0.358762  0.608781  0.472656  0.670496  0.911386  0.891686   \n",
       "4      4  0.322227  0.559339  0.365273  0.499239  0.914601  0.890028   \n",
       "\n",
       "          6         7         8         9        10        11        12  \\\n",
       "0  0.635272  0.581739  0.170648  0.156667  0.172241  0.159826  0.865883   \n",
       "1  0.889406  0.879521  0.718141  0.713230  0.715649  0.712989  0.988634   \n",
       "2  0.889191  0.881281  0.749311  0.742571  0.745322  0.742694  0.986119   \n",
       "3  0.896863  0.882874  0.404194  0.393967  0.397970  0.391944  0.989202   \n",
       "4  0.899300  0.885933  0.430124  0.416377  0.423192  0.414672  0.989225   \n",
       "\n",
       "         13        14        15                 16  \n",
       "0  0.791993  0.863330  0.798109  Papaya Fresh Leaf  \n",
       "1  0.975208  0.979519  0.973014  Papaya Fresh Leaf  \n",
       "2  0.960490  0.967848  0.960933  Papaya Fresh Leaf  \n",
       "3  0.981726  0.985777  0.979875  Papaya Fresh Leaf  \n",
       "4  0.981354  0.987790  0.983360  Papaya Fresh Leaf  "
      ]
     },
     "execution_count": 11,
     "metadata": {},
     "output_type": "execute_result"
    }
   ],
   "source": [
    "df = df.rename(columns={'24': 'Class'})\n",
    "df.head()"
   ]
  },
  {
   "cell_type": "code",
   "execution_count": 12,
   "metadata": {},
   "outputs": [
    {
     "ename": "KeyError",
     "evalue": "'Class'",
     "output_type": "error",
     "traceback": [
      "\u001b[1;31m---------------------------------------------------------------------------\u001b[0m",
      "\u001b[1;31mKeyError\u001b[0m                                  Traceback (most recent call last)",
      "\u001b[1;32m~\\Anaconda3\\lib\\site-packages\\pandas\\core\\indexes\\base.py\u001b[0m in \u001b[0;36mget_loc\u001b[1;34m(self, key, method, tolerance)\u001b[0m\n\u001b[0;32m   3079\u001b[0m             \u001b[1;32mtry\u001b[0m\u001b[1;33m:\u001b[0m\u001b[1;33m\u001b[0m\u001b[1;33m\u001b[0m\u001b[0m\n\u001b[1;32m-> 3080\u001b[1;33m                 \u001b[1;32mreturn\u001b[0m \u001b[0mself\u001b[0m\u001b[1;33m.\u001b[0m\u001b[0m_engine\u001b[0m\u001b[1;33m.\u001b[0m\u001b[0mget_loc\u001b[0m\u001b[1;33m(\u001b[0m\u001b[0mcasted_key\u001b[0m\u001b[1;33m)\u001b[0m\u001b[1;33m\u001b[0m\u001b[1;33m\u001b[0m\u001b[0m\n\u001b[0m\u001b[0;32m   3081\u001b[0m             \u001b[1;32mexcept\u001b[0m \u001b[0mKeyError\u001b[0m \u001b[1;32mas\u001b[0m \u001b[0merr\u001b[0m\u001b[1;33m:\u001b[0m\u001b[1;33m\u001b[0m\u001b[1;33m\u001b[0m\u001b[0m\n",
      "\u001b[1;32mpandas\\_libs\\index.pyx\u001b[0m in \u001b[0;36mpandas._libs.index.IndexEngine.get_loc\u001b[1;34m()\u001b[0m\n",
      "\u001b[1;32mpandas\\_libs\\index.pyx\u001b[0m in \u001b[0;36mpandas._libs.index.IndexEngine.get_loc\u001b[1;34m()\u001b[0m\n",
      "\u001b[1;32mpandas\\_libs\\hashtable_class_helper.pxi\u001b[0m in \u001b[0;36mpandas._libs.hashtable.PyObjectHashTable.get_item\u001b[1;34m()\u001b[0m\n",
      "\u001b[1;32mpandas\\_libs\\hashtable_class_helper.pxi\u001b[0m in \u001b[0;36mpandas._libs.hashtable.PyObjectHashTable.get_item\u001b[1;34m()\u001b[0m\n",
      "\u001b[1;31mKeyError\u001b[0m: 'Class'",
      "\nThe above exception was the direct cause of the following exception:\n",
      "\u001b[1;31mKeyError\u001b[0m                                  Traceback (most recent call last)",
      "\u001b[1;32m<ipython-input-12-086ca760e86c>\u001b[0m in \u001b[0;36m<module>\u001b[1;34m\u001b[0m\n\u001b[1;32m----> 1\u001b[1;33m \u001b[0mdf\u001b[0m\u001b[1;33m[\u001b[0m\u001b[1;34m'Class'\u001b[0m\u001b[1;33m]\u001b[0m\u001b[1;33m.\u001b[0m\u001b[0mhist\u001b[0m\u001b[1;33m(\u001b[0m\u001b[0mfigsize\u001b[0m\u001b[1;33m=\u001b[0m\u001b[1;33m(\u001b[0m\u001b[1;36m15\u001b[0m\u001b[1;33m,\u001b[0m\u001b[1;36m12\u001b[0m\u001b[1;33m)\u001b[0m\u001b[1;33m,\u001b[0m\u001b[0mbins\u001b[0m \u001b[1;33m=\u001b[0m \u001b[1;36m15\u001b[0m\u001b[1;33m)\u001b[0m\u001b[1;33m\u001b[0m\u001b[1;33m\u001b[0m\u001b[0m\n\u001b[0m\u001b[0;32m      2\u001b[0m \u001b[0mplt\u001b[0m\u001b[1;33m.\u001b[0m\u001b[0mtitle\u001b[0m\u001b[1;33m(\u001b[0m\u001b[1;34m\"Features Distribution\"\u001b[0m\u001b[1;33m)\u001b[0m\u001b[1;33m\u001b[0m\u001b[1;33m\u001b[0m\u001b[0m\n\u001b[0;32m      3\u001b[0m \u001b[0mplt\u001b[0m\u001b[1;33m.\u001b[0m\u001b[0mshow\u001b[0m\u001b[1;33m(\u001b[0m\u001b[1;33m)\u001b[0m\u001b[1;33m\u001b[0m\u001b[1;33m\u001b[0m\u001b[0m\n",
      "\u001b[1;32m~\\Anaconda3\\lib\\site-packages\\pandas\\core\\frame.py\u001b[0m in \u001b[0;36m__getitem__\u001b[1;34m(self, key)\u001b[0m\n\u001b[0;32m   3022\u001b[0m             \u001b[1;32mif\u001b[0m \u001b[0mself\u001b[0m\u001b[1;33m.\u001b[0m\u001b[0mcolumns\u001b[0m\u001b[1;33m.\u001b[0m\u001b[0mnlevels\u001b[0m \u001b[1;33m>\u001b[0m \u001b[1;36m1\u001b[0m\u001b[1;33m:\u001b[0m\u001b[1;33m\u001b[0m\u001b[1;33m\u001b[0m\u001b[0m\n\u001b[0;32m   3023\u001b[0m                 \u001b[1;32mreturn\u001b[0m \u001b[0mself\u001b[0m\u001b[1;33m.\u001b[0m\u001b[0m_getitem_multilevel\u001b[0m\u001b[1;33m(\u001b[0m\u001b[0mkey\u001b[0m\u001b[1;33m)\u001b[0m\u001b[1;33m\u001b[0m\u001b[1;33m\u001b[0m\u001b[0m\n\u001b[1;32m-> 3024\u001b[1;33m             \u001b[0mindexer\u001b[0m \u001b[1;33m=\u001b[0m \u001b[0mself\u001b[0m\u001b[1;33m.\u001b[0m\u001b[0mcolumns\u001b[0m\u001b[1;33m.\u001b[0m\u001b[0mget_loc\u001b[0m\u001b[1;33m(\u001b[0m\u001b[0mkey\u001b[0m\u001b[1;33m)\u001b[0m\u001b[1;33m\u001b[0m\u001b[1;33m\u001b[0m\u001b[0m\n\u001b[0m\u001b[0;32m   3025\u001b[0m             \u001b[1;32mif\u001b[0m \u001b[0mis_integer\u001b[0m\u001b[1;33m(\u001b[0m\u001b[0mindexer\u001b[0m\u001b[1;33m)\u001b[0m\u001b[1;33m:\u001b[0m\u001b[1;33m\u001b[0m\u001b[1;33m\u001b[0m\u001b[0m\n\u001b[0;32m   3026\u001b[0m                 \u001b[0mindexer\u001b[0m \u001b[1;33m=\u001b[0m \u001b[1;33m[\u001b[0m\u001b[0mindexer\u001b[0m\u001b[1;33m]\u001b[0m\u001b[1;33m\u001b[0m\u001b[1;33m\u001b[0m\u001b[0m\n",
      "\u001b[1;32m~\\Anaconda3\\lib\\site-packages\\pandas\\core\\indexes\\base.py\u001b[0m in \u001b[0;36mget_loc\u001b[1;34m(self, key, method, tolerance)\u001b[0m\n\u001b[0;32m   3080\u001b[0m                 \u001b[1;32mreturn\u001b[0m \u001b[0mself\u001b[0m\u001b[1;33m.\u001b[0m\u001b[0m_engine\u001b[0m\u001b[1;33m.\u001b[0m\u001b[0mget_loc\u001b[0m\u001b[1;33m(\u001b[0m\u001b[0mcasted_key\u001b[0m\u001b[1;33m)\u001b[0m\u001b[1;33m\u001b[0m\u001b[1;33m\u001b[0m\u001b[0m\n\u001b[0;32m   3081\u001b[0m             \u001b[1;32mexcept\u001b[0m \u001b[0mKeyError\u001b[0m \u001b[1;32mas\u001b[0m \u001b[0merr\u001b[0m\u001b[1;33m:\u001b[0m\u001b[1;33m\u001b[0m\u001b[1;33m\u001b[0m\u001b[0m\n\u001b[1;32m-> 3082\u001b[1;33m                 \u001b[1;32mraise\u001b[0m \u001b[0mKeyError\u001b[0m\u001b[1;33m(\u001b[0m\u001b[0mkey\u001b[0m\u001b[1;33m)\u001b[0m \u001b[1;32mfrom\u001b[0m \u001b[0merr\u001b[0m\u001b[1;33m\u001b[0m\u001b[1;33m\u001b[0m\u001b[0m\n\u001b[0m\u001b[0;32m   3083\u001b[0m \u001b[1;33m\u001b[0m\u001b[0m\n\u001b[0;32m   3084\u001b[0m         \u001b[1;32mif\u001b[0m \u001b[0mtolerance\u001b[0m \u001b[1;32mis\u001b[0m \u001b[1;32mnot\u001b[0m \u001b[1;32mNone\u001b[0m\u001b[1;33m:\u001b[0m\u001b[1;33m\u001b[0m\u001b[1;33m\u001b[0m\u001b[0m\n",
      "\u001b[1;31mKeyError\u001b[0m: 'Class'"
     ]
    }
   ],
   "source": [
    "df['Class'].hist(figsize=(15,12),bins = 15)\n",
    "plt.title(\"Features Distribution\")\n",
    "plt.show()"
   ]
  },
  {
   "cell_type": "code",
   "execution_count": null,
   "metadata": {},
   "outputs": [],
   "source": [
    "df['Class'].unique()"
   ]
  },
  {
   "cell_type": "code",
   "execution_count": null,
   "metadata": {},
   "outputs": [],
   "source": [
    "# Import label encoder\n",
    "from sklearn import preprocessing\n",
    "  \n",
    "# label_encoder object knows how to understand word labels.\n",
    "label_encoder = preprocessing.LabelEncoder()\n",
    "  \n",
    "# Encode labels in column 'species'.\n",
    "df['Class']= label_encoder.fit_transform(df['Class'])\n",
    "  \n",
    "df['Class'].unique()"
   ]
  },
  {
   "cell_type": "code",
   "execution_count": null,
   "metadata": {},
   "outputs": [],
   "source": [
    "plt.figure(figsize=(20,20))\n",
    "cor = df.corr()\n",
    "sns.heatmap(cor, annot=True, cmap=plt.cm.Reds)\n",
    "plt.show()"
   ]
  },
  {
   "cell_type": "code",
   "execution_count": null,
   "metadata": {},
   "outputs": [],
   "source": []
  },
  {
   "cell_type": "code",
   "execution_count": null,
   "metadata": {},
   "outputs": [],
   "source": [
    "\n",
    "df.head()"
   ]
  },
  {
   "cell_type": "code",
   "execution_count": null,
   "metadata": {},
   "outputs": [],
   "source": [
    "X = df.drop('Class',axis=1)\n",
    "y = df['Class']"
   ]
  },
  {
   "cell_type": "code",
   "execution_count": null,
   "metadata": {},
   "outputs": [],
   "source": [
    "X.head()"
   ]
  },
  {
   "cell_type": "code",
   "execution_count": null,
   "metadata": {
    "scrolled": true
   },
   "outputs": [],
   "source": [
    "y.head()"
   ]
  },
  {
   "cell_type": "code",
   "execution_count": null,
   "metadata": {},
   "outputs": [],
   "source": []
  },
  {
   "cell_type": "markdown",
   "metadata": {},
   "source": [
    "# Feature Scaling and Normalization"
   ]
  },
  {
   "cell_type": "code",
   "execution_count": null,
   "metadata": {},
   "outputs": [],
   "source": [
    "from sklearn.preprocessing import StandardScaler,RobustScaler,MinMaxScaler,MaxAbsScaler\n",
    "  \n",
    "scaler = StandardScaler()\n",
    "\n",
    "X = scaler.fit_transform(X)\n",
    "\n",
    "X = pd.DataFrame(X)"
   ]
  },
  {
   "cell_type": "code",
   "execution_count": null,
   "metadata": {},
   "outputs": [],
   "source": [
    "fig, ax = plt.subplots(1,2)\n",
    "sns.distplot(df.drop('Class',axis=1), ax=ax[0])\n",
    "ax[0].set_title(\"Original Data\")\n",
    "sns.distplot(X, ax=ax[1])\n",
    "ax[1].set_title(\"Scaled data\")"
   ]
  },
  {
   "cell_type": "code",
   "execution_count": null,
   "metadata": {},
   "outputs": [],
   "source": [
    "X=((X-X.min())/(X.max()-X.min()))*10"
   ]
  },
  {
   "cell_type": "code",
   "execution_count": null,
   "metadata": {},
   "outputs": [],
   "source": [
    "n_df=X\n",
    "n_df['Class']=y\n",
    "fig, ax=plt.subplots(1,2)\n",
    "sns.distplot(df, ax=ax[0])\n",
    "ax[0].set_title(\"Original Data\")\n",
    "sns.distplot(n_df, ax=ax[1])\n",
    "ax[1].set_title(\"Normalized data\")"
   ]
  },
  {
   "cell_type": "code",
   "execution_count": null,
   "metadata": {},
   "outputs": [],
   "source": [
    "df.info()"
   ]
  },
  {
   "cell_type": "code",
   "execution_count": null,
   "metadata": {},
   "outputs": [],
   "source": [
    "from sklearn.model_selection import train_test_split\n",
    "\n",
    "X_train, X_test, y_train, y_test = train_test_split(X, y , test_size = 0.2,stratify=y)\n",
    "X_train = X_train.assign(dataset='train')\n",
    "X_train = pd.concat([X_train, y_train], axis = 1)\n",
    "X_test = X_test.assign(dataset='test')\n",
    "X_test = pd.concat([X_test, y_test], axis = 1)\n",
    "X_train.shape, X_test.shape\n",
    "X_rf = pd.concat([X_train, X_test])\n",
    "\n",
    "#We encode the old target variable for the classifier\n",
    "X_rf = pd.get_dummies(X_rf, columns=['Class'])\n",
    "\n",
    "#The dataset column - that is, whether the datapoint belongs to the training or the test dataset - is exactly what we are trying to predict\n",
    "y_rf = X_rf.pop('dataset')\n",
    "\n",
    "#The following is just a good and old Random Forest classifier\n",
    "\n",
    "\n"
   ]
  },
  {
   "cell_type": "code",
   "execution_count": null,
   "metadata": {},
   "outputs": [],
   "source": [
    "X_train, X_test, y_train, y_test = train_test_split(\n",
    "     X_rf, y_rf, test_size=0.5, random_state=0)"
   ]
  },
  {
   "cell_type": "code",
   "execution_count": null,
   "metadata": {},
   "outputs": [],
   "source": [
    "X_train.head()"
   ]
  },
  {
   "cell_type": "markdown",
   "metadata": {},
   "source": [
    "# Model training"
   ]
  },
  {
   "cell_type": "markdown",
   "metadata": {},
   "source": [
    "## KNN"
   ]
  },
  {
   "cell_type": "code",
   "execution_count": null,
   "metadata": {},
   "outputs": [],
   "source": [
    "\n",
    "  \n",
    "# Remember that we are trying to come up\n",
    "# with a model to predict whether\n",
    "# someone will TARGET CLASS or not.\n",
    "# We'll start with k = 1.\n",
    "\n",
    "from sklearn.neighbors import KNeighborsClassifier\n",
    "  \n",
    "knn = KNeighborsClassifier(n_neighbors = 1)\n",
    "  \n",
    "knn.fit(X_train, y_train)\n",
    "pred = knn.predict(X_test)\n",
    "\n",
    "plot_confusion_matrix(knn, X_test, y_test)\n",
    "plt.xticks(rotation = 90)\n",
    "plt.show()\n",
    "\n",
    "# Predictions and Evaluations\n",
    "# Let's evaluate our KNN model ! \n"
   ]
  },
  {
   "cell_type": "code",
   "execution_count": null,
   "metadata": {},
   "outputs": [],
   "source": [
    "from sklearn.metrics import classification_report  \n",
    "print(classification_report(y_test, pred))\n"
   ]
  },
  {
   "cell_type": "code",
   "execution_count": null,
   "metadata": {},
   "outputs": [],
   "source": [
    "from sklearn import metrics\n",
    "error_rate = []\n",
    "scores = []\n",
    "\n",
    "k=40\n",
    "max_accuracy=0\n",
    "best_k=1\n",
    "\n",
    "for i in range(1, k):\n",
    "      \n",
    "    knn = KNeighborsClassifier(n_neighbors = i)\n",
    "    knn.fit(X_train, y_train)\n",
    "    pred_i = knn.predict(X_test)\n",
    "    error_rate.append(np.mean(pred_i != y_test))\n",
    "    y_predict = knn.predict(X_test)\n",
    "    curr_accuracy=metrics.accuracy_score(y_test,y_predict)\n",
    "    if curr_accuracy>max_accuracy:\n",
    "        max_accuracy=curr_accuracy\n",
    "        best_k=i\n",
    "    scores.append(curr_accuracy)\n",
    "  \n"
   ]
  },
  {
   "cell_type": "code",
   "execution_count": null,
   "metadata": {},
   "outputs": [],
   "source": [
    "plt.figure(figsize =(10, 6))\n",
    "plt.plot(range(1, k), error_rate, color ='blue',\n",
    "                linestyle ='dashed', marker ='o',\n",
    "         markerfacecolor ='red', markersize = 10)\n",
    "  \n",
    "plt.title('Error Rate vs. K Value')\n",
    "plt.xlabel('K')\n",
    "plt.ylabel('Error Rate')"
   ]
  },
  {
   "cell_type": "code",
   "execution_count": null,
   "metadata": {},
   "outputs": [],
   "source": [
    "plt.plot(np.arange(1,k),scores)\n",
    "plt.title('Varition of accuracy with K value')\n",
    "plt.xlabel('K values')\n",
    "plt.ylabel('Accuracy')"
   ]
  },
  {
   "cell_type": "code",
   "execution_count": null,
   "metadata": {},
   "outputs": [],
   "source": [
    "knn = KNeighborsClassifier(n_neighbors = best_k)\n",
    "  \n",
    "knn.fit(X_train, y_train)\n",
    "pred = knn.predict(X_test)\n",
    "from sklearn.metrics import classification_report  \n",
    "print(classification_report(y_test, pred))\n",
    "kNN_Score = max_accuracy*100\n",
    "print(\"Accuracy for k = {} is {}%\".format(best_k,max_accuracy*100))"
   ]
  },
  {
   "cell_type": "markdown",
   "metadata": {},
   "source": [
    "## SVM"
   ]
  },
  {
   "cell_type": "code",
   "execution_count": null,
   "metadata": {},
   "outputs": [],
   "source": [
    "from sklearn.svm import SVC\n",
    "svm_model= SVC()\n",
    "tuned_parameters = {\n",
    " 'C': (np.arange(1,20)) , 'kernel': ['linear'],\n",
    " 'C': (np.arange(1,20)) ,  'kernel': ['rbf'],\n",
    " 'C':(np.arange(1,20)) , 'kernel':['poly']\n",
    "                   }\n",
    "from sklearn.model_selection import GridSearchCV\n",
    "\n",
    "model_svm = GridSearchCV(svm_model, tuned_parameters,cv=10,scoring='accuracy')\n",
    "\n",
    "model_svm.fit(X_train,y_train)\n",
    "print('best hyperlink parameters')\n",
    "print(model_svm.best_params_)\n",
    "y_pred= model_svm.predict(X_test)\n",
    "print('Accuracy Score:')\n",
    "\n",
    "print(classification_report(y_test, y_pred))"
   ]
  },
  {
   "cell_type": "code",
   "execution_count": null,
   "metadata": {},
   "outputs": [],
   "source": [
    "SVM_Score = accuracy_score(y_pred,y_test)*100\n",
    "print('Model accuracy score: {0:0.4f}%'. format(accuracy_score(y_pred,y_test)*100))"
   ]
  },
  {
   "cell_type": "markdown",
   "metadata": {},
   "source": [
    "## Naive Bayes"
   ]
  },
  {
   "cell_type": "code",
   "execution_count": null,
   "metadata": {},
   "outputs": [],
   "source": [
    "from sklearn.naive_bayes import GaussianNB,CategoricalNB,BernoulliNB\n",
    "\n",
    "# instantiate the model\n",
    "bnb = BernoulliNB()\n",
    "\n",
    "# fit the model\n",
    "bnb.fit(X_train, y_train)\n",
    "y_pred = gnb.predict(X_test)\n",
    "NB_Score = accuracy_score(y_test, y_pred)*100\n",
    "print(classification_report(y_test, y_pred))\n"
   ]
  },
  {
   "cell_type": "code",
   "execution_count": null,
   "metadata": {},
   "outputs": [],
   "source": [
    "print('Model accuracy score: {0:0.4f}%'. format(NB_Score))"
   ]
  },
  {
   "cell_type": "markdown",
   "metadata": {},
   "source": [
    "## Logistic regression"
   ]
  },
  {
   "cell_type": "code",
   "execution_count": null,
   "metadata": {},
   "outputs": [],
   "source": [
    "from sklearn.linear_model import LogisticRegression\n",
    "\n",
    "lr = LogisticRegression(solver='lbfgs', max_iter=1000)\n",
    "\n",
    "# fit the model\n",
    "lr.fit(X_train, y_train)\n",
    "y_pred = gnb.predict(X_test)\n",
    "LR_Score=accuracy_score(y_test, y_pred)*100\n",
    "print(classification_report(y_test, y_pred))\n"
   ]
  },
  {
   "cell_type": "code",
   "execution_count": null,
   "metadata": {},
   "outputs": [],
   "source": [
    "print('Model accuracy score: {0:0.4f}%'. format(LR_Score))"
   ]
  },
  {
   "cell_type": "markdown",
   "metadata": {},
   "source": [
    "# DecisionTree"
   ]
  },
  {
   "cell_type": "code",
   "execution_count": null,
   "metadata": {},
   "outputs": [],
   "source": [
    "from sklearn.tree import DecisionTreeClassifier\n",
    "\n",
    "clf_gini = DecisionTreeClassifier(criterion='entropy', max_depth=3, random_state=0)\n",
    "\n",
    "\n",
    "# fit the model\n",
    "clf_gini.fit(X_train, y_train)\n",
    "y_pred = clf_gini.predict(X_test)\n",
    "DT_Score=accuracy_score(y_test, y_pred)*100\n",
    "print(classification_report(y_test, y_pred))"
   ]
  },
  {
   "cell_type": "code",
   "execution_count": null,
   "metadata": {},
   "outputs": [],
   "source": [
    "print('Model accuracy score: {0:0.4f}%'. format(DT_Score))"
   ]
  },
  {
   "cell_type": "markdown",
   "metadata": {},
   "source": [
    "# K-Fold Cross Validation"
   ]
  },
  {
   "cell_type": "code",
   "execution_count": null,
   "metadata": {},
   "outputs": [],
   "source": [
    "from sklearn.model_selection import KFold, StratifiedKFold\n",
    "\n",
    "kf = StratifiedKFold(n_splits=3, shuffle=True, random_state=0)\n",
    "\n",
    "cnt = 1\n",
    "# split()  method generate indices to split data into training and test set.\n",
    "for train_index, test_index in kf.split(X, y):\n",
    "    print(f'Fold:{cnt}, Train set: {len(train_index)}, Test set:{len(test_index)}')\n",
    "    cnt += 1\n"
   ]
  },
  {
   "cell_type": "code",
   "execution_count": null,
   "metadata": {},
   "outputs": [],
   "source": [
    "Bnb = BernoulliNB()\n",
    "Score = cross_val_score(Bnb, X, y, cv= kf, scoring=\"accuracy\")\n",
    "print('Scores for each fold are:')\n",
    "print(Score)\n",
    "print('Model accuracy score for Gaussian Naive Bayes - K Fold : {0:0.4f}%'.format(Score.mean()*100))"
   ]
  },
  {
   "cell_type": "code",
   "execution_count": null,
   "metadata": {},
   "outputs": [],
   "source": [
    "score = cross_val_score(lr, X, y, cv= kf, scoring=\"accuracy\")\n",
    "print('Scores for each fold are:')\n",
    "print(score)\n",
    "LR_Score = score.mean()*100\n",
    "print('Model accuracy score for Logistic Regression - K Fold : {0:0.4f}%'.format(score.mean()*100))"
   ]
  },
  {
   "cell_type": "code",
   "execution_count": null,
   "metadata": {},
   "outputs": [],
   "source": [
    "print('Model accuracy score for KNN: {0:0.4f}%'. format(kNN_Score))\n",
    "print('Model accuracy score for SVM: {0:0.4f}%'. format(SVM_Score))\n",
    "print('Model accuracy score for Decision Tree: {0:0.4f}%'. format(DT_Score))\n",
    "print('Model accuracy score for Naive Bayes: {0:0.4f}%'. format(NB_Score))\n",
    "print('Model accuracy score for Logistic Regression using K-Fold : {0:0.4f}%'. format(LR_Score))"
   ]
  },
  {
   "cell_type": "code",
   "execution_count": null,
   "metadata": {},
   "outputs": [],
   "source": []
  },
  {
   "cell_type": "code",
   "execution_count": null,
   "metadata": {},
   "outputs": [],
   "source": []
  },
  {
   "cell_type": "code",
   "execution_count": null,
   "metadata": {},
   "outputs": [],
   "source": []
  },
  {
   "cell_type": "code",
   "execution_count": null,
   "metadata": {},
   "outputs": [],
   "source": []
  }
 ],
 "metadata": {
  "kernelspec": {
   "display_name": "Python 3",
   "language": "python",
   "name": "python3"
  },
  "language_info": {
   "codemirror_mode": {
    "name": "ipython",
    "version": 3
   },
   "file_extension": ".py",
   "mimetype": "text/x-python",
   "name": "python",
   "nbconvert_exporter": "python",
   "pygments_lexer": "ipython3",
   "version": "3.7.3"
  }
 },
 "nbformat": 4,
 "nbformat_minor": 4
}
