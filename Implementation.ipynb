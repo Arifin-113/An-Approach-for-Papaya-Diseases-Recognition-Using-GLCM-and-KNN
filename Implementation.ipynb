{
 "cells": [
  {
   "cell_type": "code",
   "execution_count": 49,
   "metadata": {},
   "outputs": [],
   "source": [
    "#imports\n",
    "import numpy as np\n",
    "import pandas as pd\n",
    "import matplotlib.pyplot as plt\n",
    "import seaborn as sns\n",
    "from sklearn.metrics import accuracy_score\n",
    "from sklearn.metrics import plot_confusion_matrix\n",
    "from sklearn.model_selection import cross_val_score\n",
    "from sklearn.utils import shuffle"
   ]
  },
  {
   "cell_type": "code",
   "execution_count": 50,
   "metadata": {},
   "outputs": [
    {
     "data": {
      "text/html": [
       "<div>\n",
       "<style scoped>\n",
       "    .dataframe tbody tr th:only-of-type {\n",
       "        vertical-align: middle;\n",
       "    }\n",
       "\n",
       "    .dataframe tbody tr th {\n",
       "        vertical-align: top;\n",
       "    }\n",
       "\n",
       "    .dataframe thead th {\n",
       "        text-align: right;\n",
       "    }\n",
       "</style>\n",
       "<table border=\"1\" class=\"dataframe\">\n",
       "  <thead>\n",
       "    <tr style=\"text-align: right;\">\n",
       "      <th></th>\n",
       "      <th>index</th>\n",
       "      <th>0</th>\n",
       "      <th>1</th>\n",
       "      <th>2</th>\n",
       "      <th>3</th>\n",
       "      <th>4</th>\n",
       "      <th>5</th>\n",
       "      <th>6</th>\n",
       "      <th>7</th>\n",
       "      <th>8</th>\n",
       "      <th>9</th>\n",
       "      <th>10</th>\n",
       "      <th>11</th>\n",
       "      <th>12</th>\n",
       "      <th>13</th>\n",
       "      <th>14</th>\n",
       "      <th>15</th>\n",
       "      <th>16</th>\n",
       "    </tr>\n",
       "  </thead>\n",
       "  <tbody>\n",
       "    <tr>\n",
       "      <th>0</th>\n",
       "      <td>0</td>\n",
       "      <td>1.999632</td>\n",
       "      <td>3.093702</td>\n",
       "      <td>2.033272</td>\n",
       "      <td>3.002799</td>\n",
       "      <td>0.633460</td>\n",
       "      <td>0.571372</td>\n",
       "      <td>0.635272</td>\n",
       "      <td>0.581739</td>\n",
       "      <td>0.170648</td>\n",
       "      <td>0.156667</td>\n",
       "      <td>0.172241</td>\n",
       "      <td>0.159826</td>\n",
       "      <td>0.865883</td>\n",
       "      <td>0.791993</td>\n",
       "      <td>0.863330</td>\n",
       "      <td>0.798109</td>\n",
       "      <td>Papaya Fresh Leaf</td>\n",
       "    </tr>\n",
       "    <tr>\n",
       "      <th>1</th>\n",
       "      <td>1</td>\n",
       "      <td>0.722365</td>\n",
       "      <td>1.579700</td>\n",
       "      <td>1.301654</td>\n",
       "      <td>1.719493</td>\n",
       "      <td>0.915808</td>\n",
       "      <td>0.885972</td>\n",
       "      <td>0.889406</td>\n",
       "      <td>0.879521</td>\n",
       "      <td>0.718141</td>\n",
       "      <td>0.713230</td>\n",
       "      <td>0.715649</td>\n",
       "      <td>0.712989</td>\n",
       "      <td>0.988634</td>\n",
       "      <td>0.975208</td>\n",
       "      <td>0.979519</td>\n",
       "      <td>0.973014</td>\n",
       "      <td>Papaya Fresh Leaf</td>\n",
       "    </tr>\n",
       "    <tr>\n",
       "      <th>2</th>\n",
       "      <td>2</td>\n",
       "      <td>0.699969</td>\n",
       "      <td>1.998093</td>\n",
       "      <td>1.621354</td>\n",
       "      <td>1.975702</td>\n",
       "      <td>0.925097</td>\n",
       "      <td>0.882642</td>\n",
       "      <td>0.889191</td>\n",
       "      <td>0.881281</td>\n",
       "      <td>0.749311</td>\n",
       "      <td>0.742571</td>\n",
       "      <td>0.745322</td>\n",
       "      <td>0.742694</td>\n",
       "      <td>0.986119</td>\n",
       "      <td>0.960490</td>\n",
       "      <td>0.967848</td>\n",
       "      <td>0.960933</td>\n",
       "      <td>Papaya Fresh Leaf</td>\n",
       "    </tr>\n",
       "    <tr>\n",
       "      <th>3</th>\n",
       "      <td>3</td>\n",
       "      <td>0.358762</td>\n",
       "      <td>0.608781</td>\n",
       "      <td>0.472656</td>\n",
       "      <td>0.670496</td>\n",
       "      <td>0.911386</td>\n",
       "      <td>0.891686</td>\n",
       "      <td>0.896863</td>\n",
       "      <td>0.882874</td>\n",
       "      <td>0.404194</td>\n",
       "      <td>0.393967</td>\n",
       "      <td>0.397970</td>\n",
       "      <td>0.391944</td>\n",
       "      <td>0.989202</td>\n",
       "      <td>0.981726</td>\n",
       "      <td>0.985777</td>\n",
       "      <td>0.979875</td>\n",
       "      <td>Papaya Fresh Leaf</td>\n",
       "    </tr>\n",
       "    <tr>\n",
       "      <th>4</th>\n",
       "      <td>4</td>\n",
       "      <td>0.322227</td>\n",
       "      <td>0.559339</td>\n",
       "      <td>0.365273</td>\n",
       "      <td>0.499239</td>\n",
       "      <td>0.914601</td>\n",
       "      <td>0.890028</td>\n",
       "      <td>0.899300</td>\n",
       "      <td>0.885933</td>\n",
       "      <td>0.430124</td>\n",
       "      <td>0.416377</td>\n",
       "      <td>0.423192</td>\n",
       "      <td>0.414672</td>\n",
       "      <td>0.989225</td>\n",
       "      <td>0.981354</td>\n",
       "      <td>0.987790</td>\n",
       "      <td>0.983360</td>\n",
       "      <td>Papaya Fresh Leaf</td>\n",
       "    </tr>\n",
       "  </tbody>\n",
       "</table>\n",
       "</div>"
      ],
      "text/plain": [
       "   index         0         1         2         3         4         5  \\\n",
       "0      0  1.999632  3.093702  2.033272  3.002799  0.633460  0.571372   \n",
       "1      1  0.722365  1.579700  1.301654  1.719493  0.915808  0.885972   \n",
       "2      2  0.699969  1.998093  1.621354  1.975702  0.925097  0.882642   \n",
       "3      3  0.358762  0.608781  0.472656  0.670496  0.911386  0.891686   \n",
       "4      4  0.322227  0.559339  0.365273  0.499239  0.914601  0.890028   \n",
       "\n",
       "          6         7         8         9        10        11        12  \\\n",
       "0  0.635272  0.581739  0.170648  0.156667  0.172241  0.159826  0.865883   \n",
       "1  0.889406  0.879521  0.718141  0.713230  0.715649  0.712989  0.988634   \n",
       "2  0.889191  0.881281  0.749311  0.742571  0.745322  0.742694  0.986119   \n",
       "3  0.896863  0.882874  0.404194  0.393967  0.397970  0.391944  0.989202   \n",
       "4  0.899300  0.885933  0.430124  0.416377  0.423192  0.414672  0.989225   \n",
       "\n",
       "         13        14        15                 16  \n",
       "0  0.791993  0.863330  0.798109  Papaya Fresh Leaf  \n",
       "1  0.975208  0.979519  0.973014  Papaya Fresh Leaf  \n",
       "2  0.960490  0.967848  0.960933  Papaya Fresh Leaf  \n",
       "3  0.981726  0.985777  0.979875  Papaya Fresh Leaf  \n",
       "4  0.981354  0.987790  0.983360  Papaya Fresh Leaf  "
      ]
     },
     "execution_count": 50,
     "metadata": {},
     "output_type": "execute_result"
    }
   ],
   "source": [
    "path = r\"C:\\Users\\Arifin\\Downloads\\papaya\\Combined_Leaf.csv\"\n",
    "df = pd.read_csv(path,index_col=0)\n",
    "df = df.reset_index()\n",
    "df.head()"
   ]
  },
  {
   "cell_type": "code",
   "execution_count": 51,
   "metadata": {},
   "outputs": [
    {
     "data": {
      "text/plain": [
       "(290, 18)"
      ]
     },
     "execution_count": 51,
     "metadata": {},
     "output_type": "execute_result"
    }
   ],
   "source": [
    "df.shape"
   ]
  },
  {
   "cell_type": "code",
   "execution_count": 52,
   "metadata": {},
   "outputs": [
    {
     "data": {
      "text/html": [
       "<div>\n",
       "<style scoped>\n",
       "    .dataframe tbody tr th:only-of-type {\n",
       "        vertical-align: middle;\n",
       "    }\n",
       "\n",
       "    .dataframe tbody tr th {\n",
       "        vertical-align: top;\n",
       "    }\n",
       "\n",
       "    .dataframe thead th {\n",
       "        text-align: right;\n",
       "    }\n",
       "</style>\n",
       "<table border=\"1\" class=\"dataframe\">\n",
       "  <thead>\n",
       "    <tr style=\"text-align: right;\">\n",
       "      <th></th>\n",
       "      <th>index</th>\n",
       "      <th>0</th>\n",
       "      <th>1</th>\n",
       "      <th>2</th>\n",
       "      <th>3</th>\n",
       "      <th>4</th>\n",
       "      <th>5</th>\n",
       "      <th>6</th>\n",
       "      <th>7</th>\n",
       "      <th>8</th>\n",
       "      <th>9</th>\n",
       "      <th>10</th>\n",
       "      <th>11</th>\n",
       "      <th>12</th>\n",
       "      <th>13</th>\n",
       "      <th>14</th>\n",
       "      <th>15</th>\n",
       "    </tr>\n",
       "  </thead>\n",
       "  <tbody>\n",
       "    <tr>\n",
       "      <th>count</th>\n",
       "      <td>290.000000</td>\n",
       "      <td>290.000000</td>\n",
       "      <td>290.000000</td>\n",
       "      <td>290.000000</td>\n",
       "      <td>290.000000</td>\n",
       "      <td>290.000000</td>\n",
       "      <td>290.000000</td>\n",
       "      <td>290.000000</td>\n",
       "      <td>290.000000</td>\n",
       "      <td>290.000000</td>\n",
       "      <td>290.000000</td>\n",
       "      <td>290.000000</td>\n",
       "      <td>290.000000</td>\n",
       "      <td>290.000000</td>\n",
       "      <td>290.000000</td>\n",
       "      <td>290.000000</td>\n",
       "      <td>290.000000</td>\n",
       "    </tr>\n",
       "    <tr>\n",
       "      <th>mean</th>\n",
       "      <td>30.055172</td>\n",
       "      <td>2.730053</td>\n",
       "      <td>4.004278</td>\n",
       "      <td>2.708280</td>\n",
       "      <td>4.037056</td>\n",
       "      <td>0.724608</td>\n",
       "      <td>0.673031</td>\n",
       "      <td>0.725979</td>\n",
       "      <td>0.672046</td>\n",
       "      <td>0.304381</td>\n",
       "      <td>0.289274</td>\n",
       "      <td>0.304638</td>\n",
       "      <td>0.289224</td>\n",
       "      <td>0.887507</td>\n",
       "      <td>0.836804</td>\n",
       "      <td>0.889513</td>\n",
       "      <td>0.835418</td>\n",
       "    </tr>\n",
       "    <tr>\n",
       "      <th>std</th>\n",
       "      <td>18.916235</td>\n",
       "      <td>1.569669</td>\n",
       "      <td>2.037242</td>\n",
       "      <td>1.526318</td>\n",
       "      <td>2.045037</td>\n",
       "      <td>0.125969</td>\n",
       "      <td>0.137457</td>\n",
       "      <td>0.122049</td>\n",
       "      <td>0.137917</td>\n",
       "      <td>0.177709</td>\n",
       "      <td>0.176843</td>\n",
       "      <td>0.176173</td>\n",
       "      <td>0.177148</td>\n",
       "      <td>0.072311</td>\n",
       "      <td>0.094296</td>\n",
       "      <td>0.071455</td>\n",
       "      <td>0.095235</td>\n",
       "    </tr>\n",
       "    <tr>\n",
       "      <th>min</th>\n",
       "      <td>0.000000</td>\n",
       "      <td>0.237760</td>\n",
       "      <td>0.412626</td>\n",
       "      <td>0.263710</td>\n",
       "      <td>0.422268</td>\n",
       "      <td>0.443385</td>\n",
       "      <td>0.418674</td>\n",
       "      <td>0.441471</td>\n",
       "      <td>0.407525</td>\n",
       "      <td>0.108920</td>\n",
       "      <td>0.097947</td>\n",
       "      <td>0.100415</td>\n",
       "      <td>0.095287</td>\n",
       "      <td>0.613236</td>\n",
       "      <td>0.515019</td>\n",
       "      <td>0.635982</td>\n",
       "      <td>0.482207</td>\n",
       "    </tr>\n",
       "    <tr>\n",
       "      <th>25%</th>\n",
       "      <td>14.000000</td>\n",
       "      <td>1.511776</td>\n",
       "      <td>2.347028</td>\n",
       "      <td>1.536336</td>\n",
       "      <td>2.381453</td>\n",
       "      <td>0.620249</td>\n",
       "      <td>0.551028</td>\n",
       "      <td>0.623504</td>\n",
       "      <td>0.550100</td>\n",
       "      <td>0.145027</td>\n",
       "      <td>0.132160</td>\n",
       "      <td>0.147435</td>\n",
       "      <td>0.131843</td>\n",
       "      <td>0.842035</td>\n",
       "      <td>0.782129</td>\n",
       "      <td>0.849238</td>\n",
       "      <td>0.778329</td>\n",
       "    </tr>\n",
       "    <tr>\n",
       "      <th>50%</th>\n",
       "      <td>28.500000</td>\n",
       "      <td>2.568490</td>\n",
       "      <td>3.994302</td>\n",
       "      <td>2.619669</td>\n",
       "      <td>4.028658</td>\n",
       "      <td>0.720309</td>\n",
       "      <td>0.655138</td>\n",
       "      <td>0.717382</td>\n",
       "      <td>0.656673</td>\n",
       "      <td>0.201670</td>\n",
       "      <td>0.190792</td>\n",
       "      <td>0.207620</td>\n",
       "      <td>0.189852</td>\n",
       "      <td>0.891392</td>\n",
       "      <td>0.834174</td>\n",
       "      <td>0.893543</td>\n",
       "      <td>0.830536</td>\n",
       "    </tr>\n",
       "    <tr>\n",
       "      <th>75%</th>\n",
       "      <td>45.000000</td>\n",
       "      <td>3.809509</td>\n",
       "      <td>5.358035</td>\n",
       "      <td>3.821864</td>\n",
       "      <td>5.468900</td>\n",
       "      <td>0.830649</td>\n",
       "      <td>0.784447</td>\n",
       "      <td>0.828506</td>\n",
       "      <td>0.785288</td>\n",
       "      <td>0.474007</td>\n",
       "      <td>0.450429</td>\n",
       "      <td>0.469585</td>\n",
       "      <td>0.449702</td>\n",
       "      <td>0.945178</td>\n",
       "      <td>0.913080</td>\n",
       "      <td>0.953990</td>\n",
       "      <td>0.913202</td>\n",
       "    </tr>\n",
       "    <tr>\n",
       "      <th>max</th>\n",
       "      <td>72.000000</td>\n",
       "      <td>7.715732</td>\n",
       "      <td>10.384667</td>\n",
       "      <td>7.749449</td>\n",
       "      <td>10.185467</td>\n",
       "      <td>0.945703</td>\n",
       "      <td>0.921877</td>\n",
       "      <td>0.939214</td>\n",
       "      <td>0.924708</td>\n",
       "      <td>0.771433</td>\n",
       "      <td>0.765493</td>\n",
       "      <td>0.768943</td>\n",
       "      <td>0.765491</td>\n",
       "      <td>0.991926</td>\n",
       "      <td>0.986406</td>\n",
       "      <td>0.992110</td>\n",
       "      <td>0.988026</td>\n",
       "    </tr>\n",
       "  </tbody>\n",
       "</table>\n",
       "</div>"
      ],
      "text/plain": [
       "            index           0           1           2           3           4  \\\n",
       "count  290.000000  290.000000  290.000000  290.000000  290.000000  290.000000   \n",
       "mean    30.055172    2.730053    4.004278    2.708280    4.037056    0.724608   \n",
       "std     18.916235    1.569669    2.037242    1.526318    2.045037    0.125969   \n",
       "min      0.000000    0.237760    0.412626    0.263710    0.422268    0.443385   \n",
       "25%     14.000000    1.511776    2.347028    1.536336    2.381453    0.620249   \n",
       "50%     28.500000    2.568490    3.994302    2.619669    4.028658    0.720309   \n",
       "75%     45.000000    3.809509    5.358035    3.821864    5.468900    0.830649   \n",
       "max     72.000000    7.715732   10.384667    7.749449   10.185467    0.945703   \n",
       "\n",
       "                5           6           7           8           9          10  \\\n",
       "count  290.000000  290.000000  290.000000  290.000000  290.000000  290.000000   \n",
       "mean     0.673031    0.725979    0.672046    0.304381    0.289274    0.304638   \n",
       "std      0.137457    0.122049    0.137917    0.177709    0.176843    0.176173   \n",
       "min      0.418674    0.441471    0.407525    0.108920    0.097947    0.100415   \n",
       "25%      0.551028    0.623504    0.550100    0.145027    0.132160    0.147435   \n",
       "50%      0.655138    0.717382    0.656673    0.201670    0.190792    0.207620   \n",
       "75%      0.784447    0.828506    0.785288    0.474007    0.450429    0.469585   \n",
       "max      0.921877    0.939214    0.924708    0.771433    0.765493    0.768943   \n",
       "\n",
       "               11          12          13          14          15  \n",
       "count  290.000000  290.000000  290.000000  290.000000  290.000000  \n",
       "mean     0.289224    0.887507    0.836804    0.889513    0.835418  \n",
       "std      0.177148    0.072311    0.094296    0.071455    0.095235  \n",
       "min      0.095287    0.613236    0.515019    0.635982    0.482207  \n",
       "25%      0.131843    0.842035    0.782129    0.849238    0.778329  \n",
       "50%      0.189852    0.891392    0.834174    0.893543    0.830536  \n",
       "75%      0.449702    0.945178    0.913080    0.953990    0.913202  \n",
       "max      0.765491    0.991926    0.986406    0.992110    0.988026  "
      ]
     },
     "execution_count": 52,
     "metadata": {},
     "output_type": "execute_result"
    }
   ],
   "source": [
    "df.describe()"
   ]
  },
  {
   "cell_type": "code",
   "execution_count": 53,
   "metadata": {},
   "outputs": [
    {
     "data": {
      "text/html": [
       "<div>\n",
       "<style scoped>\n",
       "    .dataframe tbody tr th:only-of-type {\n",
       "        vertical-align: middle;\n",
       "    }\n",
       "\n",
       "    .dataframe tbody tr th {\n",
       "        vertical-align: top;\n",
       "    }\n",
       "\n",
       "    .dataframe thead th {\n",
       "        text-align: right;\n",
       "    }\n",
       "</style>\n",
       "<table border=\"1\" class=\"dataframe\">\n",
       "  <thead>\n",
       "    <tr style=\"text-align: right;\">\n",
       "      <th></th>\n",
       "      <th>index</th>\n",
       "      <th>0</th>\n",
       "      <th>1</th>\n",
       "      <th>2</th>\n",
       "      <th>3</th>\n",
       "      <th>4</th>\n",
       "      <th>5</th>\n",
       "      <th>6</th>\n",
       "      <th>7</th>\n",
       "      <th>8</th>\n",
       "      <th>9</th>\n",
       "      <th>10</th>\n",
       "      <th>11</th>\n",
       "      <th>12</th>\n",
       "      <th>13</th>\n",
       "      <th>14</th>\n",
       "      <th>15</th>\n",
       "      <th>Class</th>\n",
       "    </tr>\n",
       "  </thead>\n",
       "  <tbody>\n",
       "    <tr>\n",
       "      <th>0</th>\n",
       "      <td>0</td>\n",
       "      <td>1.999632</td>\n",
       "      <td>3.093702</td>\n",
       "      <td>2.033272</td>\n",
       "      <td>3.002799</td>\n",
       "      <td>0.633460</td>\n",
       "      <td>0.571372</td>\n",
       "      <td>0.635272</td>\n",
       "      <td>0.581739</td>\n",
       "      <td>0.170648</td>\n",
       "      <td>0.156667</td>\n",
       "      <td>0.172241</td>\n",
       "      <td>0.159826</td>\n",
       "      <td>0.865883</td>\n",
       "      <td>0.791993</td>\n",
       "      <td>0.863330</td>\n",
       "      <td>0.798109</td>\n",
       "      <td>Papaya Fresh Leaf</td>\n",
       "    </tr>\n",
       "    <tr>\n",
       "      <th>1</th>\n",
       "      <td>1</td>\n",
       "      <td>0.722365</td>\n",
       "      <td>1.579700</td>\n",
       "      <td>1.301654</td>\n",
       "      <td>1.719493</td>\n",
       "      <td>0.915808</td>\n",
       "      <td>0.885972</td>\n",
       "      <td>0.889406</td>\n",
       "      <td>0.879521</td>\n",
       "      <td>0.718141</td>\n",
       "      <td>0.713230</td>\n",
       "      <td>0.715649</td>\n",
       "      <td>0.712989</td>\n",
       "      <td>0.988634</td>\n",
       "      <td>0.975208</td>\n",
       "      <td>0.979519</td>\n",
       "      <td>0.973014</td>\n",
       "      <td>Papaya Fresh Leaf</td>\n",
       "    </tr>\n",
       "    <tr>\n",
       "      <th>2</th>\n",
       "      <td>2</td>\n",
       "      <td>0.699969</td>\n",
       "      <td>1.998093</td>\n",
       "      <td>1.621354</td>\n",
       "      <td>1.975702</td>\n",
       "      <td>0.925097</td>\n",
       "      <td>0.882642</td>\n",
       "      <td>0.889191</td>\n",
       "      <td>0.881281</td>\n",
       "      <td>0.749311</td>\n",
       "      <td>0.742571</td>\n",
       "      <td>0.745322</td>\n",
       "      <td>0.742694</td>\n",
       "      <td>0.986119</td>\n",
       "      <td>0.960490</td>\n",
       "      <td>0.967848</td>\n",
       "      <td>0.960933</td>\n",
       "      <td>Papaya Fresh Leaf</td>\n",
       "    </tr>\n",
       "    <tr>\n",
       "      <th>3</th>\n",
       "      <td>3</td>\n",
       "      <td>0.358762</td>\n",
       "      <td>0.608781</td>\n",
       "      <td>0.472656</td>\n",
       "      <td>0.670496</td>\n",
       "      <td>0.911386</td>\n",
       "      <td>0.891686</td>\n",
       "      <td>0.896863</td>\n",
       "      <td>0.882874</td>\n",
       "      <td>0.404194</td>\n",
       "      <td>0.393967</td>\n",
       "      <td>0.397970</td>\n",
       "      <td>0.391944</td>\n",
       "      <td>0.989202</td>\n",
       "      <td>0.981726</td>\n",
       "      <td>0.985777</td>\n",
       "      <td>0.979875</td>\n",
       "      <td>Papaya Fresh Leaf</td>\n",
       "    </tr>\n",
       "    <tr>\n",
       "      <th>4</th>\n",
       "      <td>4</td>\n",
       "      <td>0.322227</td>\n",
       "      <td>0.559339</td>\n",
       "      <td>0.365273</td>\n",
       "      <td>0.499239</td>\n",
       "      <td>0.914601</td>\n",
       "      <td>0.890028</td>\n",
       "      <td>0.899300</td>\n",
       "      <td>0.885933</td>\n",
       "      <td>0.430124</td>\n",
       "      <td>0.416377</td>\n",
       "      <td>0.423192</td>\n",
       "      <td>0.414672</td>\n",
       "      <td>0.989225</td>\n",
       "      <td>0.981354</td>\n",
       "      <td>0.987790</td>\n",
       "      <td>0.983360</td>\n",
       "      <td>Papaya Fresh Leaf</td>\n",
       "    </tr>\n",
       "  </tbody>\n",
       "</table>\n",
       "</div>"
      ],
      "text/plain": [
       "   index         0         1         2         3         4         5  \\\n",
       "0      0  1.999632  3.093702  2.033272  3.002799  0.633460  0.571372   \n",
       "1      1  0.722365  1.579700  1.301654  1.719493  0.915808  0.885972   \n",
       "2      2  0.699969  1.998093  1.621354  1.975702  0.925097  0.882642   \n",
       "3      3  0.358762  0.608781  0.472656  0.670496  0.911386  0.891686   \n",
       "4      4  0.322227  0.559339  0.365273  0.499239  0.914601  0.890028   \n",
       "\n",
       "          6         7         8         9        10        11        12  \\\n",
       "0  0.635272  0.581739  0.170648  0.156667  0.172241  0.159826  0.865883   \n",
       "1  0.889406  0.879521  0.718141  0.713230  0.715649  0.712989  0.988634   \n",
       "2  0.889191  0.881281  0.749311  0.742571  0.745322  0.742694  0.986119   \n",
       "3  0.896863  0.882874  0.404194  0.393967  0.397970  0.391944  0.989202   \n",
       "4  0.899300  0.885933  0.430124  0.416377  0.423192  0.414672  0.989225   \n",
       "\n",
       "         13        14        15              Class  \n",
       "0  0.791993  0.863330  0.798109  Papaya Fresh Leaf  \n",
       "1  0.975208  0.979519  0.973014  Papaya Fresh Leaf  \n",
       "2  0.960490  0.967848  0.960933  Papaya Fresh Leaf  \n",
       "3  0.981726  0.985777  0.979875  Papaya Fresh Leaf  \n",
       "4  0.981354  0.987790  0.983360  Papaya Fresh Leaf  "
      ]
     },
     "execution_count": 53,
     "metadata": {},
     "output_type": "execute_result"
    }
   ],
   "source": [
    "df = df.rename(columns={'16': 'Class'})\n",
    "df.head()"
   ]
  },
  {
   "cell_type": "code",
   "execution_count": 54,
   "metadata": {},
   "outputs": [
    {
     "data": {
      "image/png": "[encoded data removed]",
      "text/plain": [
       "<Figure size 1080x864 with 1 Axes>"
      ]
     },
     "metadata": {
      "needs_background": "light"
     },
     "output_type": "display_data"
    }
   ],
   "source": [
    "df['Class'].hist(figsize=(15,12),bins = 15)\n",
    "plt.title(\"Features Distribution\")\n",
    "plt.show()"
   ]
  },
  {
   "cell_type": "code",
   "execution_count": 55,
   "metadata": {},
   "outputs": [
    {
     "data": {
      "text/plain": [
       "array(['Papaya Fresh Leaf', 'Leaf Papaya Ringspot',\n",
       "       'Leaf Papaya Black Spot', 'Leaf Papaya Powdery Mildew',\n",
       "       'Papaya Leaf Curl'], dtype=object)"
      ]
     },
     "execution_count": 55,
     "metadata": {},
     "output_type": "execute_result"
    }
   ],
   "source": [
    "df['Class'].unique()"
   ]
  },
  {
   "cell_type": "code",
   "execution_count": 56,
   "metadata": {},
   "outputs": [
    {
     "data": {
      "text/plain": [
       "array([3, 2, 0, 1, 4])"
      ]
     },
     "execution_count": 56,
     "metadata": {},
     "output_type": "execute_result"
    }
   ],
   "source": [
    "# Import label encoder\n",
    "from sklearn import preprocessing\n",
    "  \n",
    "# label_encoder object knows how to understand word labels.\n",
    "label_encoder = preprocessing.LabelEncoder()\n",
    "  \n",
    "# Encode labels in column 'species'.\n",
    "df['Class']= label_encoder.fit_transform(df['Class'])\n",
    "  \n",
    "df['Class'].unique()"
   ]
  },
  {
   "cell_type": "code",
   "execution_count": 57,
   "metadata": {},
   "outputs": [
    {
     "data": {
      "image/png": "[encoded data removed]",
      "text/plain": [
       "<Figure size 720x720 with 2 Axes>"
      ]
     },
     "metadata": {
      "needs_background": "light"
     },
     "output_type": "display_data"
    }
   ],
   "source": [
    "plt.figure(figsize=(10,10))\n",
    "cor = df.corr()\n",
    "sns.heatmap(cor, annot=True, cmap=plt.cm.Reds)\n",
    "plt.show()"
   ]
  },
  {
   "cell_type": "code",
   "execution_count": null,
   "metadata": {},
   "outputs": [],
   "source": []
  },
  {
   "cell_type": "code",
   "execution_count": 58,
   "metadata": {},
   "outputs": [
    {
     "data": {
      "text/html": [
       "<div>\n",
       "<style scoped>\n",
       "    .dataframe tbody tr th:only-of-type {\n",
       "        vertical-align: middle;\n",
       "    }\n",
       "\n",
       "    .dataframe tbody tr th {\n",
       "        vertical-align: top;\n",
       "    }\n",
       "\n",
       "    .dataframe thead th {\n",
       "        text-align: right;\n",
       "    }\n",
       "</style>\n",
       "<table border=\"1\" class=\"dataframe\">\n",
       "  <thead>\n",
       "    <tr style=\"text-align: right;\">\n",
       "      <th></th>\n",
       "      <th>index</th>\n",
       "      <th>0</th>\n",
       "      <th>1</th>\n",
       "      <th>2</th>\n",
       "      <th>3</th>\n",
       "      <th>4</th>\n",
       "      <th>5</th>\n",
       "      <th>6</th>\n",
       "      <th>7</th>\n",
       "      <th>8</th>\n",
       "      <th>9</th>\n",
       "      <th>10</th>\n",
       "      <th>11</th>\n",
       "      <th>12</th>\n",
       "      <th>13</th>\n",
       "      <th>14</th>\n",
       "      <th>15</th>\n",
       "      <th>Class</th>\n",
       "    </tr>\n",
       "  </thead>\n",
       "  <tbody>\n",
       "    <tr>\n",
       "      <th>0</th>\n",
       "      <td>0</td>\n",
       "      <td>1.999632</td>\n",
       "      <td>3.093702</td>\n",
       "      <td>2.033272</td>\n",
       "      <td>3.002799</td>\n",
       "      <td>0.633460</td>\n",
       "      <td>0.571372</td>\n",
       "      <td>0.635272</td>\n",
       "      <td>0.581739</td>\n",
       "      <td>0.170648</td>\n",
       "      <td>0.156667</td>\n",
       "      <td>0.172241</td>\n",
       "      <td>0.159826</td>\n",
       "      <td>0.865883</td>\n",
       "      <td>0.791993</td>\n",
       "      <td>0.863330</td>\n",
       "      <td>0.798109</td>\n",
       "      <td>3</td>\n",
       "    </tr>\n",
       "    <tr>\n",
       "      <th>1</th>\n",
       "      <td>1</td>\n",
       "      <td>0.722365</td>\n",
       "      <td>1.579700</td>\n",
       "      <td>1.301654</td>\n",
       "      <td>1.719493</td>\n",
       "      <td>0.915808</td>\n",
       "      <td>0.885972</td>\n",
       "      <td>0.889406</td>\n",
       "      <td>0.879521</td>\n",
       "      <td>0.718141</td>\n",
       "      <td>0.713230</td>\n",
       "      <td>0.715649</td>\n",
       "      <td>0.712989</td>\n",
       "      <td>0.988634</td>\n",
       "      <td>0.975208</td>\n",
       "      <td>0.979519</td>\n",
       "      <td>0.973014</td>\n",
       "      <td>3</td>\n",
       "    </tr>\n",
       "    <tr>\n",
       "      <th>2</th>\n",
       "      <td>2</td>\n",
       "      <td>0.699969</td>\n",
       "      <td>1.998093</td>\n",
       "      <td>1.621354</td>\n",
       "      <td>1.975702</td>\n",
       "      <td>0.925097</td>\n",
       "      <td>0.882642</td>\n",
       "      <td>0.889191</td>\n",
       "      <td>0.881281</td>\n",
       "      <td>0.749311</td>\n",
       "      <td>0.742571</td>\n",
       "      <td>0.745322</td>\n",
       "      <td>0.742694</td>\n",
       "      <td>0.986119</td>\n",
       "      <td>0.960490</td>\n",
       "      <td>0.967848</td>\n",
       "      <td>0.960933</td>\n",
       "      <td>3</td>\n",
       "    </tr>\n",
       "    <tr>\n",
       "      <th>3</th>\n",
       "      <td>3</td>\n",
       "      <td>0.358762</td>\n",
       "      <td>0.608781</td>\n",
       "      <td>0.472656</td>\n",
       "      <td>0.670496</td>\n",
       "      <td>0.911386</td>\n",
       "      <td>0.891686</td>\n",
       "      <td>0.896863</td>\n",
       "      <td>0.882874</td>\n",
       "      <td>0.404194</td>\n",
       "      <td>0.393967</td>\n",
       "      <td>0.397970</td>\n",
       "      <td>0.391944</td>\n",
       "      <td>0.989202</td>\n",
       "      <td>0.981726</td>\n",
       "      <td>0.985777</td>\n",
       "      <td>0.979875</td>\n",
       "      <td>3</td>\n",
       "    </tr>\n",
       "    <tr>\n",
       "      <th>4</th>\n",
       "      <td>4</td>\n",
       "      <td>0.322227</td>\n",
       "      <td>0.559339</td>\n",
       "      <td>0.365273</td>\n",
       "      <td>0.499239</td>\n",
       "      <td>0.914601</td>\n",
       "      <td>0.890028</td>\n",
       "      <td>0.899300</td>\n",
       "      <td>0.885933</td>\n",
       "      <td>0.430124</td>\n",
       "      <td>0.416377</td>\n",
       "      <td>0.423192</td>\n",
       "      <td>0.414672</td>\n",
       "      <td>0.989225</td>\n",
       "      <td>0.981354</td>\n",
       "      <td>0.987790</td>\n",
       "      <td>0.983360</td>\n",
       "      <td>3</td>\n",
       "    </tr>\n",
       "  </tbody>\n",
       "</table>\n",
       "</div>"
      ],
      "text/plain": [
       "   index         0         1         2         3         4         5  \\\n",
       "0      0  1.999632  3.093702  2.033272  3.002799  0.633460  0.571372   \n",
       "1      1  0.722365  1.579700  1.301654  1.719493  0.915808  0.885972   \n",
       "2      2  0.699969  1.998093  1.621354  1.975702  0.925097  0.882642   \n",
       "3      3  0.358762  0.608781  0.472656  0.670496  0.911386  0.891686   \n",
       "4      4  0.322227  0.559339  0.365273  0.499239  0.914601  0.890028   \n",
       "\n",
       "          6         7         8         9        10        11        12  \\\n",
       "0  0.635272  0.581739  0.170648  0.156667  0.172241  0.159826  0.865883   \n",
       "1  0.889406  0.879521  0.718141  0.713230  0.715649  0.712989  0.988634   \n",
       "2  0.889191  0.881281  0.749311  0.742571  0.745322  0.742694  0.986119   \n",
       "3  0.896863  0.882874  0.404194  0.393967  0.397970  0.391944  0.989202   \n",
       "4  0.899300  0.885933  0.430124  0.416377  0.423192  0.414672  0.989225   \n",
       "\n",
       "         13        14        15  Class  \n",
       "0  0.791993  0.863330  0.798109      3  \n",
       "1  0.975208  0.979519  0.973014      3  \n",
       "2  0.960490  0.967848  0.960933      3  \n",
       "3  0.981726  0.985777  0.979875      3  \n",
       "4  0.981354  0.987790  0.983360      3  "
      ]
     },
     "execution_count": 58,
     "metadata": {},
     "output_type": "execute_result"
    }
   ],
   "source": [
    "\n",
    "df.head()"
   ]
  },
  {
   "cell_type": "code",
   "execution_count": 59,
   "metadata": {},
   "outputs": [],
   "source": [
    "X = df.drop('Class',axis=1)\n",
    "y = df['Class']"
   ]
  },
  {
   "cell_type": "code",
   "execution_count": 60,
   "metadata": {},
   "outputs": [
    {
     "data": {
      "text/html": [
       "<div>\n",
       "<style scoped>\n",
       "    .dataframe tbody tr th:only-of-type {\n",
       "        vertical-align: middle;\n",
       "    }\n",
       "\n",
       "    .dataframe tbody tr th {\n",
       "        vertical-align: top;\n",
       "    }\n",
       "\n",
       "    .dataframe thead th {\n",
       "        text-align: right;\n",
       "    }\n",
       "</style>\n",
       "<table border=\"1\" class=\"dataframe\">\n",
       "  <thead>\n",
       "    <tr style=\"text-align: right;\">\n",
       "      <th></th>\n",
       "      <th>index</th>\n",
       "      <th>0</th>\n",
       "      <th>1</th>\n",
       "      <th>2</th>\n",
       "      <th>3</th>\n",
       "      <th>4</th>\n",
       "      <th>5</th>\n",
       "      <th>6</th>\n",
       "      <th>7</th>\n",
       "      <th>8</th>\n",
       "      <th>9</th>\n",
       "      <th>10</th>\n",
       "      <th>11</th>\n",
       "      <th>12</th>\n",
       "      <th>13</th>\n",
       "      <th>14</th>\n",
       "      <th>15</th>\n",
       "    </tr>\n",
       "  </thead>\n",
       "  <tbody>\n",
       "    <tr>\n",
       "      <th>0</th>\n",
       "      <td>0</td>\n",
       "      <td>1.999632</td>\n",
       "      <td>3.093702</td>\n",
       "      <td>2.033272</td>\n",
       "      <td>3.002799</td>\n",
       "      <td>0.633460</td>\n",
       "      <td>0.571372</td>\n",
       "      <td>0.635272</td>\n",
       "      <td>0.581739</td>\n",
       "      <td>0.170648</td>\n",
       "      <td>0.156667</td>\n",
       "      <td>0.172241</td>\n",
       "      <td>0.159826</td>\n",
       "      <td>0.865883</td>\n",
       "      <td>0.791993</td>\n",
       "      <td>0.863330</td>\n",
       "      <td>0.798109</td>\n",
       "    </tr>\n",
       "    <tr>\n",
       "      <th>1</th>\n",
       "      <td>1</td>\n",
       "      <td>0.722365</td>\n",
       "      <td>1.579700</td>\n",
       "      <td>1.301654</td>\n",
       "      <td>1.719493</td>\n",
       "      <td>0.915808</td>\n",
       "      <td>0.885972</td>\n",
       "      <td>0.889406</td>\n",
       "      <td>0.879521</td>\n",
       "      <td>0.718141</td>\n",
       "      <td>0.713230</td>\n",
       "      <td>0.715649</td>\n",
       "      <td>0.712989</td>\n",
       "      <td>0.988634</td>\n",
       "      <td>0.975208</td>\n",
       "      <td>0.979519</td>\n",
       "      <td>0.973014</td>\n",
       "    </tr>\n",
       "    <tr>\n",
       "      <th>2</th>\n",
       "      <td>2</td>\n",
       "      <td>0.699969</td>\n",
       "      <td>1.998093</td>\n",
       "      <td>1.621354</td>\n",
       "      <td>1.975702</td>\n",
       "      <td>0.925097</td>\n",
       "      <td>0.882642</td>\n",
       "      <td>0.889191</td>\n",
       "      <td>0.881281</td>\n",
       "      <td>0.749311</td>\n",
       "      <td>0.742571</td>\n",
       "      <td>0.745322</td>\n",
       "      <td>0.742694</td>\n",
       "      <td>0.986119</td>\n",
       "      <td>0.960490</td>\n",
       "      <td>0.967848</td>\n",
       "      <td>0.960933</td>\n",
       "    </tr>\n",
       "    <tr>\n",
       "      <th>3</th>\n",
       "      <td>3</td>\n",
       "      <td>0.358762</td>\n",
       "      <td>0.608781</td>\n",
       "      <td>0.472656</td>\n",
       "      <td>0.670496</td>\n",
       "      <td>0.911386</td>\n",
       "      <td>0.891686</td>\n",
       "      <td>0.896863</td>\n",
       "      <td>0.882874</td>\n",
       "      <td>0.404194</td>\n",
       "      <td>0.393967</td>\n",
       "      <td>0.397970</td>\n",
       "      <td>0.391944</td>\n",
       "      <td>0.989202</td>\n",
       "      <td>0.981726</td>\n",
       "      <td>0.985777</td>\n",
       "      <td>0.979875</td>\n",
       "    </tr>\n",
       "    <tr>\n",
       "      <th>4</th>\n",
       "      <td>4</td>\n",
       "      <td>0.322227</td>\n",
       "      <td>0.559339</td>\n",
       "      <td>0.365273</td>\n",
       "      <td>0.499239</td>\n",
       "      <td>0.914601</td>\n",
       "      <td>0.890028</td>\n",
       "      <td>0.899300</td>\n",
       "      <td>0.885933</td>\n",
       "      <td>0.430124</td>\n",
       "      <td>0.416377</td>\n",
       "      <td>0.423192</td>\n",
       "      <td>0.414672</td>\n",
       "      <td>0.989225</td>\n",
       "      <td>0.981354</td>\n",
       "      <td>0.987790</td>\n",
       "      <td>0.983360</td>\n",
       "    </tr>\n",
       "  </tbody>\n",
       "</table>\n",
       "</div>"
      ],
      "text/plain": [
       "   index         0         1         2         3         4         5  \\\n",
       "0      0  1.999632  3.093702  2.033272  3.002799  0.633460  0.571372   \n",
       "1      1  0.722365  1.579700  1.301654  1.719493  0.915808  0.885972   \n",
       "2      2  0.699969  1.998093  1.621354  1.975702  0.925097  0.882642   \n",
       "3      3  0.358762  0.608781  0.472656  0.670496  0.911386  0.891686   \n",
       "4      4  0.322227  0.559339  0.365273  0.499239  0.914601  0.890028   \n",
       "\n",
       "          6         7         8         9        10        11        12  \\\n",
       "0  0.635272  0.581739  0.170648  0.156667  0.172241  0.159826  0.865883   \n",
       "1  0.889406  0.879521  0.718141  0.713230  0.715649  0.712989  0.988634   \n",
       "2  0.889191  0.881281  0.749311  0.742571  0.745322  0.742694  0.986119   \n",
       "3  0.896863  0.882874  0.404194  0.393967  0.397970  0.391944  0.989202   \n",
       "4  0.899300  0.885933  0.430124  0.416377  0.423192  0.414672  0.989225   \n",
       "\n",
       "         13        14        15  \n",
       "0  0.791993  0.863330  0.798109  \n",
       "1  0.975208  0.979519  0.973014  \n",
       "2  0.960490  0.967848  0.960933  \n",
       "3  0.981726  0.985777  0.979875  \n",
       "4  0.981354  0.987790  0.983360  "
      ]
     },
     "execution_count": 60,
     "metadata": {},
     "output_type": "execute_result"
    }
   ],
   "source": [
    "X.head()"
   ]
  },
  {
   "cell_type": "code",
   "execution_count": 61,
   "metadata": {
    "scrolled": true
   },
   "outputs": [
    {
     "data": {
      "text/plain": [
       "0    3\n",
       "1    3\n",
       "2    3\n",
       "3    3\n",
       "4    3\n",
       "Name: Class, dtype: int32"
      ]
     },
     "execution_count": 61,
     "metadata": {},
     "output_type": "execute_result"
    }
   ],
   "source": [
    "y.head()"
   ]
  },
  {
   "cell_type": "code",
   "execution_count": null,
   "metadata": {},
   "outputs": [],
   "source": []
  },
  {
   "cell_type": "markdown",
   "metadata": {},
   "source": [
    "# Feature Scaling and Normalization"
   ]
  },
  {
   "cell_type": "code",
   "execution_count": 62,
   "metadata": {},
   "outputs": [],
   "source": [
    "from sklearn.preprocessing import StandardScaler,RobustScaler,MinMaxScaler,MaxAbsScaler\n",
    "  \n",
    "scaler = StandardScaler()\n",
    "\n",
    "X = scaler.fit_transform(X)\n",
    "\n",
    "X = pd.DataFrame(X)"
   ]
  },
  {
   "cell_type": "code",
   "execution_count": 63,
   "metadata": {},
   "outputs": [
    {
     "name": "stderr",
     "output_type": "stream",
     "text": [
      "C:\\Users\\Arifin\\Anaconda3\\lib\\site-packages\\seaborn\\distributions.py:2557: FutureWarning: `distplot` is a deprecated function and will be removed in a future version. Please adapt your code to use either `displot` (a figure-level function with similar flexibility) or `histplot` (an axes-level function for histograms).\n",
      "  warnings.warn(msg, FutureWarning)\n",
      "C:\\Users\\Arifin\\Anaconda3\\lib\\site-packages\\seaborn\\distributions.py:2557: FutureWarning: `distplot` is a deprecated function and will be removed in a future version. Please adapt your code to use either `displot` (a figure-level function with similar flexibility) or `histplot` (an axes-level function for histograms).\n",
      "  warnings.warn(msg, FutureWarning)\n"
     ]
    },
    {
     "data": {
      "text/plain": [
       "Text(0.5, 1.0, 'Scaled data')"
      ]
     },
     "execution_count": 63,
     "metadata": {},
     "output_type": "execute_result"
    },
    {
     "data": {
      "image/png": "[encoded data removed]",
      "text/plain": [
       "<Figure size 432x288 with 2 Axes>"
      ]
     },
     "metadata": {
      "needs_background": "light"
     },
     "output_type": "display_data"
    }
   ],
   "source": [
    "fig, ax = plt.subplots(1,2)\n",
    "sns.distplot(df.drop('Class',axis=1), ax=ax[0])\n",
    "ax[0].set_title(\"Original Data\")\n",
    "sns.distplot(X, ax=ax[1])\n",
    "ax[1].set_title(\"Scaled data\")"
   ]
  },
  {
   "cell_type": "code",
   "execution_count": 64,
   "metadata": {},
   "outputs": [],
   "source": [
    "X=((X-X.min())/(X.max()-X.min()))*10"
   ]
  },
  {
   "cell_type": "code",
   "execution_count": 65,
   "metadata": {},
   "outputs": [
    {
     "name": "stderr",
     "output_type": "stream",
     "text": [
      "C:\\Users\\Arifin\\Anaconda3\\lib\\site-packages\\seaborn\\distributions.py:2557: FutureWarning: `distplot` is a deprecated function and will be removed in a future version. Please adapt your code to use either `displot` (a figure-level function with similar flexibility) or `histplot` (an axes-level function for histograms).\n",
      "  warnings.warn(msg, FutureWarning)\n",
      "C:\\Users\\Arifin\\Anaconda3\\lib\\site-packages\\seaborn\\distributions.py:2557: FutureWarning: `distplot` is a deprecated function and will be removed in a future version. Please adapt your code to use either `displot` (a figure-level function with similar flexibility) or `histplot` (an axes-level function for histograms).\n",
      "  warnings.warn(msg, FutureWarning)\n"
     ]
    },
    {
     "data": {
      "text/plain": [
       "Text(0.5, 1.0, 'Normalized data')"
      ]
     },
     "execution_count": 65,
     "metadata": {},
     "output_type": "execute_result"
    },
    {
     "data": {
      "image/png": "[encoded data removed]",
      "text/plain": [
       "<Figure size 432x288 with 2 Axes>"
      ]
     },
     "metadata": {
      "needs_background": "light"
     },
     "output_type": "display_data"
    }
   ],
   "source": [
    "n_df=X\n",
    "n_df['Class']=y\n",
    "fig, ax=plt.subplots(1,2)\n",
    "sns.distplot(df, ax=ax[0])\n",
    "ax[0].set_title(\"Original Data\")\n",
    "sns.distplot(n_df, ax=ax[1])\n",
    "ax[1].set_title(\"Normalized data\")"
   ]
  },
  {
   "cell_type": "code",
   "execution_count": 66,
   "metadata": {},
   "outputs": [
    {
     "name": "stdout",
     "output_type": "stream",
     "text": [
      "<class 'pandas.core.frame.DataFrame'>\n",
      "RangeIndex: 290 entries, 0 to 289\n",
      "Data columns (total 18 columns):\n",
      " #   Column  Non-Null Count  Dtype  \n",
      "---  ------  --------------  -----  \n",
      " 0   index   290 non-null    int64  \n",
      " 1   0       290 non-null    float64\n",
      " 2   1       290 non-null    float64\n",
      " 3   2       290 non-null    float64\n",
      " 4   3       290 non-null    float64\n",
      " 5   4       290 non-null    float64\n",
      " 6   5       290 non-null    float64\n",
      " 7   6       290 non-null    float64\n",
      " 8   7       290 non-null    float64\n",
      " 9   8       290 non-null    float64\n",
      " 10  9       290 non-null    float64\n",
      " 11  10      290 non-null    float64\n",
      " 12  11      290 non-null    float64\n",
      " 13  12      290 non-null    float64\n",
      " 14  13      290 non-null    float64\n",
      " 15  14      290 non-null    float64\n",
      " 16  15      290 non-null    float64\n",
      " 17  Class   290 non-null    int32  \n",
      "dtypes: float64(16), int32(1), int64(1)\n",
      "memory usage: 39.8 KB\n"
     ]
    }
   ],
   "source": [
    "df.info()"
   ]
  },
  {
   "cell_type": "code",
   "execution_count": 67,
   "metadata": {},
   "outputs": [],
   "source": [
    "from sklearn.model_selection import train_test_split\n",
    "\n",
    "X_train, X_test, y_train, y_test = train_test_split(X, y , test_size = 0.2,stratify=y)\n",
    "X_train = X_train.assign(dataset='train')\n",
    "X_train = pd.concat([X_train, y_train], axis = 1)\n",
    "X_test = X_test.assign(dataset='test')\n",
    "X_test = pd.concat([X_test, y_test], axis = 1)\n",
    "X_train.shape, X_test.shape\n",
    "X_rf = pd.concat([X_train, X_test])\n",
    "\n",
    "#We encode the old target variable for the classifier\n",
    "X_rf = pd.get_dummies(X_rf, columns=['Class'])\n",
    "\n",
    "#The dataset column - that is, whether the datapoint belongs to the training or the test dataset - is exactly what we are trying to predict\n",
    "y_rf = X_rf.pop('dataset')\n",
    "\n",
    "#The following is just a good and old Random Forest classifier\n",
    "\n",
    "\n"
   ]
  },
  {
   "cell_type": "code",
   "execution_count": 68,
   "metadata": {},
   "outputs": [],
   "source": [
    "X_train, X_test, y_train, y_test = train_test_split(\n",
    "     X_rf, y_rf, test_size=0.5, random_state=0)"
   ]
  },
  {
   "cell_type": "code",
   "execution_count": 69,
   "metadata": {},
   "outputs": [
    {
     "data": {
      "text/html": [
       "<div>\n",
       "<style scoped>\n",
       "    .dataframe tbody tr th:only-of-type {\n",
       "        vertical-align: middle;\n",
       "    }\n",
       "\n",
       "    .dataframe tbody tr th {\n",
       "        vertical-align: top;\n",
       "    }\n",
       "\n",
       "    .dataframe thead th {\n",
       "        text-align: right;\n",
       "    }\n",
       "</style>\n",
       "<table border=\"1\" class=\"dataframe\">\n",
       "  <thead>\n",
       "    <tr style=\"text-align: right;\">\n",
       "      <th></th>\n",
       "      <th>0</th>\n",
       "      <th>1</th>\n",
       "      <th>2</th>\n",
       "      <th>3</th>\n",
       "      <th>4</th>\n",
       "      <th>5</th>\n",
       "      <th>6</th>\n",
       "      <th>7</th>\n",
       "      <th>8</th>\n",
       "      <th>9</th>\n",
       "      <th>...</th>\n",
       "      <th>Class_0</th>\n",
       "      <th>Class_1</th>\n",
       "      <th>Class_2</th>\n",
       "      <th>Class_3</th>\n",
       "      <th>Class_4</th>\n",
       "      <th>Class_0</th>\n",
       "      <th>Class_1</th>\n",
       "      <th>Class_2</th>\n",
       "      <th>Class_3</th>\n",
       "      <th>Class_4</th>\n",
       "    </tr>\n",
       "  </thead>\n",
       "  <tbody>\n",
       "    <tr>\n",
       "      <th>117</th>\n",
       "      <td>7.361111</td>\n",
       "      <td>2.806343</td>\n",
       "      <td>4.825841</td>\n",
       "      <td>4.824370</td>\n",
       "      <td>4.102263</td>\n",
       "      <td>4.428226</td>\n",
       "      <td>2.217311</td>\n",
       "      <td>2.610319</td>\n",
       "      <td>2.837537</td>\n",
       "      <td>0.593427</td>\n",
       "      <td>...</td>\n",
       "      <td>0</td>\n",
       "      <td>0</td>\n",
       "      <td>1</td>\n",
       "      <td>0</td>\n",
       "      <td>0</td>\n",
       "      <td>0</td>\n",
       "      <td>0</td>\n",
       "      <td>1</td>\n",
       "      <td>0</td>\n",
       "      <td>0</td>\n",
       "    </tr>\n",
       "    <tr>\n",
       "      <th>169</th>\n",
       "      <td>4.444444</td>\n",
       "      <td>4.575919</td>\n",
       "      <td>5.304581</td>\n",
       "      <td>3.474397</td>\n",
       "      <td>5.088840</td>\n",
       "      <td>2.477880</td>\n",
       "      <td>1.325660</td>\n",
       "      <td>2.847252</td>\n",
       "      <td>1.808854</td>\n",
       "      <td>0.277980</td>\n",
       "      <td>...</td>\n",
       "      <td>1</td>\n",
       "      <td>0</td>\n",
       "      <td>0</td>\n",
       "      <td>0</td>\n",
       "      <td>0</td>\n",
       "      <td>1</td>\n",
       "      <td>0</td>\n",
       "      <td>0</td>\n",
       "      <td>0</td>\n",
       "      <td>0</td>\n",
       "    </tr>\n",
       "    <tr>\n",
       "      <th>163</th>\n",
       "      <td>3.611111</td>\n",
       "      <td>2.384106</td>\n",
       "      <td>3.339872</td>\n",
       "      <td>3.477118</td>\n",
       "      <td>3.510598</td>\n",
       "      <td>4.441563</td>\n",
       "      <td>3.265008</td>\n",
       "      <td>3.636485</td>\n",
       "      <td>3.352285</td>\n",
       "      <td>0.584400</td>\n",
       "      <td>...</td>\n",
       "      <td>1</td>\n",
       "      <td>0</td>\n",
       "      <td>0</td>\n",
       "      <td>0</td>\n",
       "      <td>0</td>\n",
       "      <td>1</td>\n",
       "      <td>0</td>\n",
       "      <td>0</td>\n",
       "      <td>0</td>\n",
       "      <td>0</td>\n",
       "    </tr>\n",
       "    <tr>\n",
       "      <th>27</th>\n",
       "      <td>3.750000</td>\n",
       "      <td>0.706425</td>\n",
       "      <td>1.260811</td>\n",
       "      <td>1.418936</td>\n",
       "      <td>1.440714</td>\n",
       "      <td>9.574068</td>\n",
       "      <td>9.567906</td>\n",
       "      <td>9.318813</td>\n",
       "      <td>9.365049</td>\n",
       "      <td>10.000000</td>\n",
       "      <td>...</td>\n",
       "      <td>0</td>\n",
       "      <td>0</td>\n",
       "      <td>0</td>\n",
       "      <td>1</td>\n",
       "      <td>0</td>\n",
       "      <td>0</td>\n",
       "      <td>0</td>\n",
       "      <td>0</td>\n",
       "      <td>1</td>\n",
       "      <td>0</td>\n",
       "    </tr>\n",
       "    <tr>\n",
       "      <th>259</th>\n",
       "      <td>0.416667</td>\n",
       "      <td>7.001631</td>\n",
       "      <td>7.319827</td>\n",
       "      <td>6.515883</td>\n",
       "      <td>7.966250</td>\n",
       "      <td>1.156744</td>\n",
       "      <td>0.491959</td>\n",
       "      <td>1.173107</td>\n",
       "      <td>0.558511</td>\n",
       "      <td>0.057555</td>\n",
       "      <td>...</td>\n",
       "      <td>0</td>\n",
       "      <td>0</td>\n",
       "      <td>0</td>\n",
       "      <td>0</td>\n",
       "      <td>1</td>\n",
       "      <td>0</td>\n",
       "      <td>0</td>\n",
       "      <td>0</td>\n",
       "      <td>0</td>\n",
       "      <td>1</td>\n",
       "    </tr>\n",
       "  </tbody>\n",
       "</table>\n",
       "<p>5 rows × 27 columns</p>\n",
       "</div>"
      ],
      "text/plain": [
       "            0         1         2         3         4         5         6  \\\n",
       "117  7.361111  2.806343  4.825841  4.824370  4.102263  4.428226  2.217311   \n",
       "169  4.444444  4.575919  5.304581  3.474397  5.088840  2.477880  1.325660   \n",
       "163  3.611111  2.384106  3.339872  3.477118  3.510598  4.441563  3.265008   \n",
       "27   3.750000  0.706425  1.260811  1.418936  1.440714  9.574068  9.567906   \n",
       "259  0.416667  7.001631  7.319827  6.515883  7.966250  1.156744  0.491959   \n",
       "\n",
       "            7         8          9  ...  Class_0  Class_1  Class_2  Class_3  \\\n",
       "117  2.610319  2.837537   0.593427  ...        0        0        1        0   \n",
       "169  2.847252  1.808854   0.277980  ...        1        0        0        0   \n",
       "163  3.636485  3.352285   0.584400  ...        1        0        0        0   \n",
       "27   9.318813  9.365049  10.000000  ...        0        0        0        1   \n",
       "259  1.173107  0.558511   0.057555  ...        0        0        0        0   \n",
       "\n",
       "     Class_4  Class_0  Class_1  Class_2  Class_3  Class_4  \n",
       "117        0        0        0        1        0        0  \n",
       "169        0        1        0        0        0        0  \n",
       "163        0        1        0        0        0        0  \n",
       "27         0        0        0        0        1        0  \n",
       "259        1        0        0        0        0        1  \n",
       "\n",
       "[5 rows x 27 columns]"
      ]
     },
     "execution_count": 69,
     "metadata": {},
     "output_type": "execute_result"
    }
   ],
   "source": [
    "X_train.head()"
   ]
  },
  {
   "cell_type": "markdown",
   "metadata": {},
   "source": [
    "# Model training"
   ]
  },
  {
   "cell_type": "markdown",
   "metadata": {},
   "source": [
    "## KNN"
   ]
  },
  {
   "cell_type": "code",
   "execution_count": 70,
   "metadata": {},
   "outputs": [
    {
     "data": {
      "image/png": "[encoded data removed]",
      "text/plain": [
       "<Figure size 432x288 with 2 Axes>"
      ]
     },
     "metadata": {
      "needs_background": "light"
     },
     "output_type": "display_data"
    }
   ],
   "source": [
    "\n",
    "  \n",
    "# Remember that we are trying to come up\n",
    "# with a model to predict whether\n",
    "# someone will TARGET CLASS or not.\n",
    "# We'll start with k = 1.\n",
    "\n",
    "from sklearn.neighbors import KNeighborsClassifier\n",
    "  \n",
    "knn = KNeighborsClassifier(n_neighbors = 1)\n",
    "  \n",
    "knn.fit(X_train, y_train)\n",
    "pred = knn.predict(X_test)\n",
    "\n",
    "plot_confusion_matrix(knn, X_test, y_test)\n",
    "plt.xticks(rotation = 90)\n",
    "plt.show()\n",
    "\n",
    "# Predictions and Evaluations\n",
    "# Let's evaluate our KNN model ! \n"
   ]
  },
  {
   "cell_type": "code",
   "execution_count": 71,
   "metadata": {},
   "outputs": [
    {
     "name": "stdout",
     "output_type": "stream",
     "text": [
      "              precision    recall  f1-score   support\n",
      "\n",
      "        test       0.30      0.28      0.29        32\n",
      "       train       0.80      0.81      0.81       113\n",
      "\n",
      "    accuracy                           0.70       145\n",
      "   macro avg       0.55      0.55      0.55       145\n",
      "weighted avg       0.69      0.70      0.69       145\n",
      "\n"
     ]
    }
   ],
   "source": [
    "from sklearn.metrics import classification_report  \n",
    "print(classification_report(y_test, pred))\n"
   ]
  },
  {
   "cell_type": "code",
   "execution_count": 72,
   "metadata": {},
   "outputs": [],
   "source": [
    "from sklearn import metrics\n",
    "error_rate = []\n",
    "scores = []\n",
    "\n",
    "k=40\n",
    "max_accuracy=0\n",
    "best_k=1\n",
    "\n",
    "for i in range(1, k):\n",
    "      \n",
    "    knn = KNeighborsClassifier(n_neighbors = i)\n",
    "    knn.fit(X_train, y_train)\n",
    "    pred_i = knn.predict(X_test)\n",
    "    error_rate.append(np.mean(pred_i != y_test))\n",
    "    y_predict = knn.predict(X_test)\n",
    "    curr_accuracy=metrics.accuracy_score(y_test,y_predict)\n",
    "    if curr_accuracy>max_accuracy:\n",
    "        max_accuracy=curr_accuracy\n",
    "        best_k=i\n",
    "    scores.append(curr_accuracy)\n",
    "  \n"
   ]
  },
  {
   "cell_type": "code",
   "execution_count": 73,
   "metadata": {},
   "outputs": [
    {
     "data": {
      "text/plain": [
       "Text(0, 0.5, 'Error Rate')"
      ]
     },
     "execution_count": 73,
     "metadata": {},
     "output_type": "execute_result"
    },
    {
     "data": {
      "image/png": "[encoded data removed]",
      "text/plain": [
       "<Figure size 720x432 with 1 Axes>"
      ]
     },
     "metadata": {
      "needs_background": "light"
     },
     "output_type": "display_data"
    }
   ],
   "source": [
    "plt.figure(figsize =(10, 6))\n",
    "plt.plot(range(1, k), error_rate, color ='blue',\n",
    "                linestyle ='dashed', marker ='o',\n",
    "         markerfacecolor ='red', markersize = 10)\n",
    "  \n",
    "plt.title('Error Rate vs. K Value')\n",
    "plt.xlabel('K')\n",
    "plt.ylabel('Error Rate')"
   ]
  },
  {
   "cell_type": "code",
   "execution_count": 74,
   "metadata": {},
   "outputs": [
    {
     "data": {
      "text/plain": [
       "Text(0, 0.5, 'Accuracy')"
      ]
     },
     "execution_count": 74,
     "metadata": {},
     "output_type": "execute_result"
    },
    {
     "data": {
      "image/png": "[encoded data removed]",
      "text/plain": [
       "<Figure size 432x288 with 1 Axes>"
      ]
     },
     "metadata": {
      "needs_background": "light"
     },
     "output_type": "display_data"
    }
   ],
   "source": [
    "plt.plot(np.arange(1,k),scores)\n",
    "plt.title('Varition of accuracy with K value')\n",
    "plt.xlabel('K values')\n",
    "plt.ylabel('Accuracy')"
   ]
  },
  {
   "cell_type": "code",
   "execution_count": 75,
   "metadata": {},
   "outputs": [
    {
     "name": "stdout",
     "output_type": "stream",
     "text": [
      "              precision    recall  f1-score   support\n",
      "\n",
      "        test       0.00      0.00      0.00        32\n",
      "       train       0.78      1.00      0.88       113\n",
      "\n",
      "    accuracy                           0.78       145\n",
      "   macro avg       0.39      0.50      0.44       145\n",
      "weighted avg       0.61      0.78      0.68       145\n",
      "\n",
      "Accuracy for k = 11 is 77.93103448275862%\n"
     ]
    },
    {
     "name": "stderr",
     "output_type": "stream",
     "text": [
      "C:\\Users\\Arifin\\Anaconda3\\lib\\site-packages\\sklearn\\metrics\\_classification.py:1245: UndefinedMetricWarning: Precision and F-score are ill-defined and being set to 0.0 in labels with no predicted samples. Use `zero_division` parameter to control this behavior.\n",
      "  _warn_prf(average, modifier, msg_start, len(result))\n",
      "C:\\Users\\Arifin\\Anaconda3\\lib\\site-packages\\sklearn\\metrics\\_classification.py:1245: UndefinedMetricWarning: Precision and F-score are ill-defined and being set to 0.0 in labels with no predicted samples. Use `zero_division` parameter to control this behavior.\n",
      "  _warn_prf(average, modifier, msg_start, len(result))\n",
      "C:\\Users\\Arifin\\Anaconda3\\lib\\site-packages\\sklearn\\metrics\\_classification.py:1245: UndefinedMetricWarning: Precision and F-score are ill-defined and being set to 0.0 in labels with no predicted samples. Use `zero_division` parameter to control this behavior.\n",
      "  _warn_prf(average, modifier, msg_start, len(result))\n"
     ]
    }
   ],
   "source": [
    "knn = KNeighborsClassifier(n_neighbors = best_k)\n",
    "  \n",
    "knn.fit(X_train, y_train)\n",
    "pred = knn.predict(X_test)\n",
    "from sklearn.metrics import classification_report  \n",
    "print(classification_report(y_test, pred))\n",
    "kNN_Score = max_accuracy*100\n",
    "print(\"Accuracy for k = {} is {}%\".format(best_k,max_accuracy*100))"
   ]
  },
  {
   "cell_type": "markdown",
   "metadata": {},
   "source": [
    "## SVM"
   ]
  },
  {
   "cell_type": "code",
   "execution_count": 76,
   "metadata": {},
   "outputs": [
    {
     "name": "stdout",
     "output_type": "stream",
     "text": [
      "best hyperlink parameters\n",
      "{'C': 1, 'kernel': 'poly'}\n",
      "Accuracy Score:\n",
      "              precision    recall  f1-score   support\n",
      "\n",
      "        test       0.00      0.00      0.00        32\n",
      "       train       0.78      1.00      0.88       113\n",
      "\n",
      "    accuracy                           0.78       145\n",
      "   macro avg       0.39      0.50      0.44       145\n",
      "weighted avg       0.61      0.78      0.68       145\n",
      "\n"
     ]
    },
    {
     "name": "stderr",
     "output_type": "stream",
     "text": [
      "C:\\Users\\Arifin\\Anaconda3\\lib\\site-packages\\sklearn\\metrics\\_classification.py:1245: UndefinedMetricWarning: Precision and F-score are ill-defined and being set to 0.0 in labels with no predicted samples. Use `zero_division` parameter to control this behavior.\n",
      "  _warn_prf(average, modifier, msg_start, len(result))\n",
      "C:\\Users\\Arifin\\Anaconda3\\lib\\site-packages\\sklearn\\metrics\\_classification.py:1245: UndefinedMetricWarning: Precision and F-score are ill-defined and being set to 0.0 in labels with no predicted samples. Use `zero_division` parameter to control this behavior.\n",
      "  _warn_prf(average, modifier, msg_start, len(result))\n",
      "C:\\Users\\Arifin\\Anaconda3\\lib\\site-packages\\sklearn\\metrics\\_classification.py:1245: UndefinedMetricWarning: Precision and F-score are ill-defined and being set to 0.0 in labels with no predicted samples. Use `zero_division` parameter to control this behavior.\n",
      "  _warn_prf(average, modifier, msg_start, len(result))\n"
     ]
    }
   ],
   "source": [
    "from sklearn.svm import SVC\n",
    "svm_model= SVC()\n",
    "tuned_parameters = {\n",
    " 'C': (np.arange(1,20)) , 'kernel': ['linear'],\n",
    " 'C': (np.arange(1,20)) ,  'kernel': ['rbf'],\n",
    " 'C':(np.arange(1,20)) , 'kernel':['poly']\n",
    "                   }\n",
    "from sklearn.model_selection import GridSearchCV\n",
    "\n",
    "model_svm = GridSearchCV(svm_model, tuned_parameters,cv=10,scoring='accuracy')\n",
    "\n",
    "model_svm.fit(X_train,y_train)\n",
    "print('best hyperlink parameters')\n",
    "print(model_svm.best_params_)\n",
    "y_pred= model_svm.predict(X_test)\n",
    "print('Accuracy Score:')\n",
    "\n",
    "print(classification_report(y_test, y_pred))"
   ]
  },
  {
   "cell_type": "code",
   "execution_count": 77,
   "metadata": {},
   "outputs": [
    {
     "name": "stdout",
     "output_type": "stream",
     "text": [
      "Model accuracy score: 77.9310%\n"
     ]
    }
   ],
   "source": [
    "SVM_Score = accuracy_score(y_pred,y_test)*100\n",
    "print('Model accuracy score: {0:0.4f}%'. format(accuracy_score(y_pred,y_test)*100))"
   ]
  },
  {
   "cell_type": "markdown",
   "metadata": {},
   "source": [
    "## Naive Bayes"
   ]
  },
  {
   "cell_type": "code",
   "execution_count": 78,
   "metadata": {},
   "outputs": [
    {
     "ename": "NameError",
     "evalue": "name 'gnb' is not defined",
     "output_type": "error",
     "traceback": [
      "\u001b[1;31m---------------------------------------------------------------------------\u001b[0m",
      "\u001b[1;31mNameError\u001b[0m                                 Traceback (most recent call last)",
      "\u001b[1;32m<ipython-input-78-3b682abe98c3>\u001b[0m in \u001b[0;36m<module>\u001b[1;34m\u001b[0m\n\u001b[0;32m      6\u001b[0m \u001b[1;31m# fit the model\u001b[0m\u001b[1;33m\u001b[0m\u001b[1;33m\u001b[0m\u001b[1;33m\u001b[0m\u001b[0m\n\u001b[0;32m      7\u001b[0m \u001b[0mbnb\u001b[0m\u001b[1;33m.\u001b[0m\u001b[0mfit\u001b[0m\u001b[1;33m(\u001b[0m\u001b[0mX_train\u001b[0m\u001b[1;33m,\u001b[0m \u001b[0my_train\u001b[0m\u001b[1;33m)\u001b[0m\u001b[1;33m\u001b[0m\u001b[1;33m\u001b[0m\u001b[0m\n\u001b[1;32m----> 8\u001b[1;33m \u001b[0my_pred\u001b[0m \u001b[1;33m=\u001b[0m \u001b[0mgnb\u001b[0m\u001b[1;33m.\u001b[0m\u001b[0mpredict\u001b[0m\u001b[1;33m(\u001b[0m\u001b[0mX_test\u001b[0m\u001b[1;33m)\u001b[0m\u001b[1;33m\u001b[0m\u001b[1;33m\u001b[0m\u001b[0m\n\u001b[0m\u001b[0;32m      9\u001b[0m \u001b[0mNB_Score\u001b[0m \u001b[1;33m=\u001b[0m \u001b[0maccuracy_score\u001b[0m\u001b[1;33m(\u001b[0m\u001b[0my_test\u001b[0m\u001b[1;33m,\u001b[0m \u001b[0my_pred\u001b[0m\u001b[1;33m)\u001b[0m\u001b[1;33m*\u001b[0m\u001b[1;36m100\u001b[0m\u001b[1;33m\u001b[0m\u001b[1;33m\u001b[0m\u001b[0m\n\u001b[0;32m     10\u001b[0m \u001b[0mprint\u001b[0m\u001b[1;33m(\u001b[0m\u001b[0mclassification_report\u001b[0m\u001b[1;33m(\u001b[0m\u001b[0my_test\u001b[0m\u001b[1;33m,\u001b[0m \u001b[0my_pred\u001b[0m\u001b[1;33m)\u001b[0m\u001b[1;33m)\u001b[0m\u001b[1;33m\u001b[0m\u001b[1;33m\u001b[0m\u001b[0m\n",
      "\u001b[1;31mNameError\u001b[0m: name 'gnb' is not defined"
     ]
    }
   ],
   "source": [
    "from sklearn.naive_bayes import GaussianNB,CategoricalNB,BernoulliNB\n",
    "\n",
    "# instantiate the model\n",
    "bnb = BernoulliNB()\n",
    "\n",
    "# fit the model\n",
    "bnb.fit(X_train, y_train)\n",
    "y_pred = gnb.predict(X_test)\n",
    "NB_Score = accuracy_score(y_test, y_pred)*100\n",
    "print(classification_report(y_test, y_pred))\n"
   ]
  },
  {
   "cell_type": "code",
   "execution_count": null,
   "metadata": {},
   "outputs": [],
   "source": [
    "print('Model accuracy score: {0:0.4f}%'. format(NB_Score))"
   ]
  },
  {
   "cell_type": "markdown",
   "metadata": {},
   "source": [
    "## Logistic regression"
   ]
  },
  {
   "cell_type": "code",
   "execution_count": null,
   "metadata": {},
   "outputs": [],
   "source": [
    "from sklearn.linear_model import LogisticRegression\n",
    "\n",
    "lr = LogisticRegression(solver='lbfgs', max_iter=1000)\n",
    "\n",
    "# fit the model\n",
    "lr.fit(X_train, y_train)\n",
    "y_pred = gnb.predict(X_test)\n",
    "LR_Score=accuracy_score(y_test, y_pred)*100\n",
    "print(classification_report(y_test, y_pred))\n"
   ]
  },
  {
   "cell_type": "code",
   "execution_count": null,
   "metadata": {},
   "outputs": [],
   "source": [
    "print('Model accuracy score: {0:0.4f}%'. format(LR_Score))"
   ]
  },
  {
   "cell_type": "markdown",
   "metadata": {},
   "source": [
    "# DecisionTree"
   ]
  },
  {
   "cell_type": "code",
   "execution_count": null,
   "metadata": {},
   "outputs": [],
   "source": [
    "from sklearn.tree import DecisionTreeClassifier\n",
    "\n",
    "clf_gini = DecisionTreeClassifier(criterion='entropy', max_depth=3, random_state=0)\n",
    "\n",
    "\n",
    "# fit the model\n",
    "clf_gini.fit(X_train, y_train)\n",
    "y_pred = clf_gini.predict(X_test)\n",
    "DT_Score=accuracy_score(y_test, y_pred)*100\n",
    "print(classification_report(y_test, y_pred))"
   ]
  },
  {
   "cell_type": "code",
   "execution_count": null,
   "metadata": {},
   "outputs": [],
   "source": [
    "print('Model accuracy score: {0:0.4f}%'. format(DT_Score))"
   ]
  },
  {
   "cell_type": "markdown",
   "metadata": {},
   "source": [
    "# K-Fold Cross Validation"
   ]
  },
  {
   "cell_type": "code",
   "execution_count": null,
   "metadata": {},
   "outputs": [],
   "source": [
    "from sklearn.model_selection import KFold, StratifiedKFold\n",
    "\n",
    "kf = StratifiedKFold(n_splits=3, shuffle=True, random_state=0)\n",
    "\n",
    "cnt = 1\n",
    "# split()  method generate indices to split data into training and test set.\n",
    "for train_index, test_index in kf.split(X, y):\n",
    "    print(f'Fold:{cnt}, Train set: {len(train_index)}, Test set:{len(test_index)}')\n",
    "    cnt += 1\n"
   ]
  },
  {
   "cell_type": "code",
   "execution_count": null,
   "metadata": {},
   "outputs": [],
   "source": [
    "Bnb = BernoulliNB()\n",
    "Score = cross_val_score(Bnb, X, y, cv= kf, scoring=\"accuracy\")\n",
    "print('Scores for each fold are:')\n",
    "print(Score)\n",
    "print('Model accuracy score for Gaussian Naive Bayes - K Fold : {0:0.4f}%'.format(Score.mean()*100))"
   ]
  },
  {
   "cell_type": "code",
   "execution_count": null,
   "metadata": {},
   "outputs": [],
   "source": [
    "score = cross_val_score(lr, X, y, cv= kf, scoring=\"accuracy\")\n",
    "print('Scores for each fold are:')\n",
    "print(score)\n",
    "LR_Score = score.mean()*100\n",
    "print('Model accuracy score for Logistic Regression - K Fold : {0:0.4f}%'.format(score.mean()*100))"
   ]
  },
  {
   "cell_type": "code",
   "execution_count": null,
   "metadata": {},
   "outputs": [],
   "source": [
    "print('Model accuracy score for KNN: {0:0.4f}%'. format(kNN_Score))\n",
    "print('Model accuracy score for SVM: {0:0.4f}%'. format(SVM_Score))\n",
    "print('Model accuracy score for Decision Tree: {0:0.4f}%'. format(DT_Score))\n",
    "print('Model accuracy score for Naive Bayes: {0:0.4f}%'. format(NB_Score))\n",
    "print('Model accuracy score for Logistic Regression using K-Fold : {0:0.4f}%'. format(LR_Score))"
   ]
  },
  {
   "cell_type": "code",
   "execution_count": null,
   "metadata": {},
   "outputs": [],
   "source": []
  },
  {
   "cell_type": "code",
   "execution_count": null,
   "metadata": {},
   "outputs": [],
   "source": []
  },
  {
   "cell_type": "code",
   "execution_count": null,
   "metadata": {},
   "outputs": [],
   "source": []
  },
  {
   "cell_type": "code",
   "execution_count": null,
   "metadata": {},
   "outputs": [],
   "source": []
  }
 ],
 "metadata": {
  "kernelspec": {
   "display_name": "Python 3",
   "language": "python",
   "name": "python3"
  },
  "language_info": {
   "codemirror_mode": {
    "name": "ipython",
    "version": 3
   },
   "file_extension": ".py",
   "mimetype": "text/x-python",
   "name": "python",
   "nbconvert_exporter": "python",
   "pygments_lexer": "ipython3",
   "version": "3.7.3"
  }
 },
 "nbformat": 4,
 "nbformat_minor": 4
}
